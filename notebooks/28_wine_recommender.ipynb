{
 "cells": [
  {
   "cell_type": "code",
   "execution_count": 29,
   "metadata": {
    "collapsed": false
   },
   "outputs": [],
   "source": [
    "import pandas as pd\n",
    "import numpy as np\n",
    "from lightfm import LightFM\n",
    "\n",
    "%matplotlib inline"
   ]
  },
  {
   "cell_type": "markdown",
   "metadata": {},
   "source": [
    "# Collaborative Filtering\n",
    "\n",
    "Development of the wine recommendation engine."
   ]
  },
  {
   "cell_type": "code",
   "execution_count": 45,
   "metadata": {
    "collapsed": false
   },
   "outputs": [],
   "source": [
    "data = pd.read_pickle('../pkl/00_wine_dot_com_data_combined.pkl')\n",
    "reviews = pd.read_pickle('../pkl/00_wine_dot_com_review_combined.pkl')\n",
    "\n",
    "reviews = reviews.loc[reviews.author != 'Anonymous']\n",
    "reviews['rating'] = reviews.rating.astype(int)\n",
    "reviews['date'] = pd.to_datetime(reviews.date)"
   ]
  },
  {
   "cell_type": "code",
   "execution_count": 47,
   "metadata": {
    "collapsed": false
   },
   "outputs": [
    {
     "data": {
      "text/plain": [
       "((8620, 11), (6343, 8))"
      ]
     },
     "execution_count": 47,
     "metadata": {},
     "output_type": "execute_result"
    }
   ],
   "source": [
    "data.shape, reviews.shape"
   ]
  },
  {
   "cell_type": "code",
   "execution_count": 21,
   "metadata": {
    "collapsed": false
   },
   "outputs": [
    {
     "data": {
      "text/html": [
       "<div>\n",
       "<table border=\"1\" class=\"dataframe\">\n",
       "  <thead>\n",
       "    <tr style=\"text-align: right;\">\n",
       "      <th></th>\n",
       "      <th>author</th>\n",
       "      <th>date</th>\n",
       "      <th>location</th>\n",
       "      <th>rating</th>\n",
       "      <th>review</th>\n",
       "      <th>style</th>\n",
       "      <th>url</th>\n",
       "      <th>url_no</th>\n",
       "    </tr>\n",
       "  </thead>\n",
       "  <tbody>\n",
       "    <tr>\n",
       "      <th>0</th>\n",
       "      <td>colbyalbo</td>\n",
       "      <td>2016-05-20</td>\n",
       "      <td>Lafayette, LA</td>\n",
       "      <td>5</td>\n",
       "      <td>An aromatic bouquet of contrasting flavors. Re...</td>\n",
       "      <td>Light &amp; Fruity</td>\n",
       "      <td>http://www.wine.com/v6/Schug-Sonoma-Coast-Pino...</td>\n",
       "      <td>0</td>\n",
       "    </tr>\n",
       "    <tr>\n",
       "      <th>1</th>\n",
       "      <td>CParks</td>\n",
       "      <td>2016-01-28</td>\n",
       "      <td>San Francisco, CA</td>\n",
       "      <td>5</td>\n",
       "      <td></td>\n",
       "      <td></td>\n",
       "      <td>http://www.wine.com/v6/Schug-Sonoma-Coast-Pino...</td>\n",
       "      <td>0</td>\n",
       "    </tr>\n",
       "  </tbody>\n",
       "</table>\n",
       "</div>"
      ],
      "text/plain": [
       "      author       date           location  rating  \\\n",
       "0  colbyalbo 2016-05-20      Lafayette, LA       5   \n",
       "1     CParks 2016-01-28  San Francisco, CA       5   \n",
       "\n",
       "                                              review           style  \\\n",
       "0  An aromatic bouquet of contrasting flavors. Re...  Light & Fruity   \n",
       "1                                                                      \n",
       "\n",
       "                                                 url  url_no  \n",
       "0  http://www.wine.com/v6/Schug-Sonoma-Coast-Pino...       0  \n",
       "1  http://www.wine.com/v6/Schug-Sonoma-Coast-Pino...       0  "
      ]
     },
     "execution_count": 21,
     "metadata": {},
     "output_type": "execute_result"
    }
   ],
   "source": [
    "reviews.head(2)"
   ]
  },
  {
   "cell_type": "code",
   "execution_count": 22,
   "metadata": {
    "collapsed": false
   },
   "outputs": [
    {
     "data": {
      "text/plain": [
       "(2920, 2219)"
      ]
     },
     "execution_count": 22,
     "metadata": {},
     "output_type": "execute_result"
    }
   ],
   "source": [
    "reviews.author.nunique(), reviews.url_no.nunique()"
   ]
  },
  {
   "cell_type": "markdown",
   "metadata": {},
   "source": [
    "Handle duplicates."
   ]
  },
  {
   "cell_type": "code",
   "execution_count": 26,
   "metadata": {
    "collapsed": false
   },
   "outputs": [
    {
     "data": {
      "text/plain": [
       "(6343, 6325)"
      ]
     },
     "execution_count": 26,
     "metadata": {},
     "output_type": "execute_result"
    }
   ],
   "source": [
    "reviews[['author','url_no','rating']].shape[0], reviews[['author','url_no','rating']].drop_duplicates().shape[0]"
   ]
  },
  {
   "cell_type": "code",
   "execution_count": 30,
   "metadata": {
    "collapsed": true
   },
   "outputs": [],
   "source": [
    "all_index = reviews[['author','url_no','rating']].index\n",
    "dedupe_index = reviews[['author','url_no','rating']].drop_duplicates().index"
   ]
  },
  {
   "cell_type": "code",
   "execution_count": 31,
   "metadata": {
    "collapsed": false
   },
   "outputs": [
    {
     "data": {
      "text/html": [
       "<div>\n",
       "<table border=\"1\" class=\"dataframe\">\n",
       "  <thead>\n",
       "    <tr style=\"text-align: right;\">\n",
       "      <th></th>\n",
       "      <th>author</th>\n",
       "      <th>url_no</th>\n",
       "      <th>rating</th>\n",
       "    </tr>\n",
       "  </thead>\n",
       "  <tbody>\n",
       "    <tr>\n",
       "      <th>621</th>\n",
       "      <td>Omar Stradella</td>\n",
       "      <td>7678</td>\n",
       "      <td>5</td>\n",
       "    </tr>\n",
       "  </tbody>\n",
       "</table>\n",
       "</div>"
      ],
      "text/plain": [
       "             author  url_no  rating\n",
       "621  Omar Stradella    7678       5"
      ]
     },
     "execution_count": 31,
     "metadata": {},
     "output_type": "execute_result"
    }
   ],
   "source": [
    "mask = np.invert(all_index.isin(dedupe_index))\n",
    "reviews.loc[mask, ['author','url_no','rating']]"
   ]
  },
  {
   "cell_type": "code",
   "execution_count": 33,
   "metadata": {
    "collapsed": false
   },
   "outputs": [
    {
     "data": {
      "text/plain": [
       "(6343, 6325)"
      ]
     },
     "execution_count": 33,
     "metadata": {},
     "output_type": "execute_result"
    }
   ],
   "source": [
    "len(all_index), len(dedupe_index)"
   ]
  },
  {
   "cell_type": "code",
   "execution_count": null,
   "metadata": {
    "collapsed": true
   },
   "outputs": [],
   "source": [
    ".pivot('author','url_no','rating').head(1).T"
   ]
  },
  {
   "cell_type": "code",
   "execution_count": null,
   "metadata": {
    "collapsed": true
   },
   "outputs": [],
   "source": [
    "model = LightFM(loss='warp')"
   ]
  },
  {
   "cell_type": "code",
   "execution_count": null,
   "metadata": {
    "collapsed": true
   },
   "outputs": [],
   "source": []
  },
  {
   "cell_type": "code",
   "execution_count": 19,
   "metadata": {
    "collapsed": false
   },
   "outputs": [],
   "source": [
    "\n",
    "author_reviews = reviews.author.value_counts().sort_values(ascending=False)"
   ]
  },
  {
   "cell_type": "code",
   "execution_count": 21,
   "metadata": {
    "collapsed": false
   },
   "outputs": [
    {
     "data": {
      "text/plain": [
       "<matplotlib.axes._subplots.AxesSubplot at 0x7f44f40b1dd0>"
      ]
     },
     "execution_count": 21,
     "metadata": {},
     "output_type": "execute_result"
    },
    {
     "data": {
      "image/png": "[encoded data removed]",
      "text/plain": [
       "<matplotlib.figure.Figure at 0x7f44f40979d0>"
      ]
     },
     "metadata": {},
     "output_type": "display_data"
    }
   ],
   "source": [
    "author_reviews.hist(bins=100)"
   ]
  },
  {
   "cell_type": "code",
   "execution_count": 22,
   "metadata": {
    "collapsed": false
   },
   "outputs": [
    {
     "data": {
      "text/html": [
       "<div>\n",
       "<table border=\"1\" class=\"dataframe\">\n",
       "  <thead>\n",
       "    <tr style=\"text-align: right;\">\n",
       "      <th></th>\n",
       "      <th>author</th>\n",
       "      <th>date</th>\n",
       "      <th>location</th>\n",
       "      <th>rating</th>\n",
       "      <th>review</th>\n",
       "      <th>style</th>\n",
       "      <th>url</th>\n",
       "      <th>url_no</th>\n",
       "    </tr>\n",
       "  </thead>\n",
       "  <tbody>\n",
       "    <tr>\n",
       "      <th>0</th>\n",
       "      <td>colbyalbo</td>\n",
       "      <td>5/20/2016</td>\n",
       "      <td>Lafayette, LA</td>\n",
       "      <td>5</td>\n",
       "      <td>An aromatic bouquet of contrasting flavors. Re...</td>\n",
       "      <td>Light &amp; Fruity</td>\n",
       "      <td>http://www.wine.com/v6/Schug-Sonoma-Coast-Pino...</td>\n",
       "      <td>0</td>\n",
       "    </tr>\n",
       "    <tr>\n",
       "      <th>1</th>\n",
       "      <td>CParks</td>\n",
       "      <td>1/28/2016</td>\n",
       "      <td>San Francisco, CA</td>\n",
       "      <td>5</td>\n",
       "      <td></td>\n",
       "      <td></td>\n",
       "      <td>http://www.wine.com/v6/Schug-Sonoma-Coast-Pino...</td>\n",
       "      <td>0</td>\n",
       "    </tr>\n",
       "    <tr>\n",
       "      <th>2</th>\n",
       "      <td>J2YAY</td>\n",
       "      <td>2/16/2016</td>\n",
       "      <td>San Francisco, CA</td>\n",
       "      <td>2</td>\n",
       "      <td></td>\n",
       "      <td></td>\n",
       "      <td>http://www.wine.com/v6/Schug-Sonoma-Coast-Pino...</td>\n",
       "      <td>0</td>\n",
       "    </tr>\n",
       "    <tr>\n",
       "      <th>4</th>\n",
       "      <td>dcsallade</td>\n",
       "      <td>8/1/2016</td>\n",
       "      <td>Pittsburgh, PA</td>\n",
       "      <td>4</td>\n",
       "      <td></td>\n",
       "      <td></td>\n",
       "      <td>http://www.wine.com/v6/Schug-Sonoma-Coast-Pino...</td>\n",
       "      <td>0</td>\n",
       "    </tr>\n",
       "    <tr>\n",
       "      <th>5</th>\n",
       "      <td>0fhashii</td>\n",
       "      <td>7/31/2016</td>\n",
       "      <td>Fairfield, CT</td>\n",
       "      <td>4</td>\n",
       "      <td></td>\n",
       "      <td></td>\n",
       "      <td>http://www.wine.com/v6/Schug-Sonoma-Coast-Pino...</td>\n",
       "      <td>0</td>\n",
       "    </tr>\n",
       "  </tbody>\n",
       "</table>\n",
       "</div>"
      ],
      "text/plain": [
       "      author       date           location rating  \\\n",
       "0  colbyalbo  5/20/2016      Lafayette, LA      5   \n",
       "1     CParks  1/28/2016  San Francisco, CA      5   \n",
       "2      J2YAY  2/16/2016  San Francisco, CA      2   \n",
       "4  dcsallade   8/1/2016     Pittsburgh, PA      4   \n",
       "5   0fhashii  7/31/2016      Fairfield, CT      4   \n",
       "\n",
       "                                              review           style  \\\n",
       "0  An aromatic bouquet of contrasting flavors. Re...  Light & Fruity   \n",
       "1                                                                      \n",
       "2                                                                      \n",
       "4                                                                      \n",
       "5                                                                      \n",
       "\n",
       "                                                 url  url_no  \n",
       "0  http://www.wine.com/v6/Schug-Sonoma-Coast-Pino...       0  \n",
       "1  http://www.wine.com/v6/Schug-Sonoma-Coast-Pino...       0  \n",
       "2  http://www.wine.com/v6/Schug-Sonoma-Coast-Pino...       0  \n",
       "4  http://www.wine.com/v6/Schug-Sonoma-Coast-Pino...       0  \n",
       "5  http://www.wine.com/v6/Schug-Sonoma-Coast-Pino...       0  "
      ]
     },
     "execution_count": 22,
     "metadata": {},
     "output_type": "execute_result"
    }
   ],
   "source": [
    "reviews.head()"
   ]
  },
  {
   "cell_type": "code",
   "execution_count": 51,
   "metadata": {
    "collapsed": false
   },
   "outputs": [
    {
     "data": {
      "text/html": [
       "<div>\n",
       "<table border=\"1\" class=\"dataframe\">\n",
       "  <thead>\n",
       "    <tr style=\"text-align: right;\">\n",
       "      <th></th>\n",
       "      <th>color</th>\n",
       "      <th>image</th>\n",
       "      <th>kind</th>\n",
       "      <th>rating</th>\n",
       "      <th>region</th>\n",
       "      <th>review</th>\n",
       "      <th>url</th>\n",
       "      <th>url_no</th>\n",
       "      <th>wine</th>\n",
       "      <th>winery</th>\n",
       "      <th>year</th>\n",
       "    </tr>\n",
       "  </thead>\n",
       "  <tbody>\n",
       "    <tr>\n",
       "      <th>8</th>\n",
       "      <td>red</td>\n",
       "      <td>http://cdn.fluidretail.net/customers/c1477/14/...</td>\n",
       "      <td>Merlot</td>\n",
       "      <td>NaN</td>\n",
       "      <td>Napa Valley, California</td>\n",
       "      <td>The latest wine from Roots Run Deep Winery, Ed...</td>\n",
       "      <td>http://www.wine.com/v6/Roots-Run-Deep-Educated...</td>\n",
       "      <td>1308.0</td>\n",
       "      <td>Roots Run Deep Educated Guess Merlot</td>\n",
       "      <td>Roots Run Deep Winery</td>\n",
       "      <td>2013</td>\n",
       "    </tr>\n",
       "    <tr>\n",
       "      <th>92</th>\n",
       "      <td>white</td>\n",
       "      <td>//cache.wine.com/labels/159983l.jpg</td>\n",
       "      <td>Chardonnay</td>\n",
       "      <td>1048.5</td>\n",
       "      <td>Napa Valley, California</td>\n",
       "      <td>By combining the characteristics that both tra...</td>\n",
       "      <td>http://www.wine.com/v6/Roots-Run-Deep-Educated...</td>\n",
       "      <td>6492.0</td>\n",
       "      <td>Roots Run Deep Educated Guess Chardonnay</td>\n",
       "      <td>Roots Run Deep Winery</td>\n",
       "      <td>2014</td>\n",
       "    </tr>\n",
       "    <tr>\n",
       "      <th>35</th>\n",
       "      <td>red</td>\n",
       "      <td>http://cdn.fluidretail.net/customers/c1477/15/...</td>\n",
       "      <td>Cabernet Sauvignon</td>\n",
       "      <td>1051.5</td>\n",
       "      <td>Napa Valley, California</td>\n",
       "      <td>This wine is rich, ripe, and focused with juic...</td>\n",
       "      <td>http://www.wine.com/v6/Roots-Run-Deep-Educated...</td>\n",
       "      <td>535.0</td>\n",
       "      <td>Roots Run Deep Educated Guess Cabernet Sauvignon</td>\n",
       "      <td>Roots Run Deep Winery</td>\n",
       "      <td>2014</td>\n",
       "    </tr>\n",
       "    <tr>\n",
       "      <th>65</th>\n",
       "      <td>red</td>\n",
       "      <td>//cache.wine.com/labels/146464l.jpg</td>\n",
       "      <td>Pinot Noir</td>\n",
       "      <td>NaN</td>\n",
       "      <td>Carneros, California</td>\n",
       "      <td>Our Pinot Noir is truly a labor of love. Handc...</td>\n",
       "      <td>http://www.wine.com/v6/Roots-Run-Deep-Educated...</td>\n",
       "      <td>1765.0</td>\n",
       "      <td>Roots Run Deep Educated Guess Pinot Noir</td>\n",
       "      <td>Roots Run Deep Winery</td>\n",
       "      <td>2013</td>\n",
       "    </tr>\n",
       "  </tbody>\n",
       "</table>\n",
       "</div>"
      ],
      "text/plain": [
       "    color                                              image  \\\n",
       "8     red  http://cdn.fluidretail.net/customers/c1477/14/...   \n",
       "92  white                //cache.wine.com/labels/159983l.jpg   \n",
       "35    red  http://cdn.fluidretail.net/customers/c1477/15/...   \n",
       "65    red                //cache.wine.com/labels/146464l.jpg   \n",
       "\n",
       "                  kind  rating                   region  \\\n",
       "8               Merlot     NaN  Napa Valley, California   \n",
       "92          Chardonnay  1048.5  Napa Valley, California   \n",
       "35  Cabernet Sauvignon  1051.5  Napa Valley, California   \n",
       "65          Pinot Noir     NaN     Carneros, California   \n",
       "\n",
       "                                               review  \\\n",
       "8   The latest wine from Roots Run Deep Winery, Ed...   \n",
       "92  By combining the characteristics that both tra...   \n",
       "35  This wine is rich, ripe, and focused with juic...   \n",
       "65  Our Pinot Noir is truly a labor of love. Handc...   \n",
       "\n",
       "                                                  url  url_no  \\\n",
       "8   http://www.wine.com/v6/Roots-Run-Deep-Educated...  1308.0   \n",
       "92  http://www.wine.com/v6/Roots-Run-Deep-Educated...  6492.0   \n",
       "35  http://www.wine.com/v6/Roots-Run-Deep-Educated...   535.0   \n",
       "65  http://www.wine.com/v6/Roots-Run-Deep-Educated...  1765.0   \n",
       "\n",
       "                                                wine                 winery  \\\n",
       "8               Roots Run Deep Educated Guess Merlot  Roots Run Deep Winery   \n",
       "92          Roots Run Deep Educated Guess Chardonnay  Roots Run Deep Winery   \n",
       "35  Roots Run Deep Educated Guess Cabernet Sauvignon  Roots Run Deep Winery   \n",
       "65          Roots Run Deep Educated Guess Pinot Noir  Roots Run Deep Winery   \n",
       "\n",
       "    year  \n",
       "8   2013  \n",
       "92  2014  \n",
       "35  2014  \n",
       "65  2013  "
      ]
     },
     "execution_count": 51,
     "metadata": {},
     "output_type": "execute_result"
    }
   ],
   "source": [
    "mask = data.wine.str.contains('ducated')\n",
    "data.loc[mask]"
   ]
  },
  {
   "cell_type": "code",
   "execution_count": 54,
   "metadata": {
    "collapsed": false
   },
   "outputs": [
    {
     "data": {
      "text/html": [
       "<div>\n",
       "<table border=\"1\" class=\"dataframe\">\n",
       "  <thead>\n",
       "    <tr style=\"text-align: right;\">\n",
       "      <th></th>\n",
       "      <th>author</th>\n",
       "      <th>date</th>\n",
       "      <th>location</th>\n",
       "      <th>rating</th>\n",
       "      <th>review</th>\n",
       "      <th>style</th>\n",
       "      <th>url</th>\n",
       "      <th>url_no</th>\n",
       "    </tr>\n",
       "  </thead>\n",
       "  <tbody>\n",
       "    <tr>\n",
       "      <th>138</th>\n",
       "      <td>ljube172</td>\n",
       "      <td>2016-08-19</td>\n",
       "      <td>Pittsburgh, PA</td>\n",
       "      <td>3</td>\n",
       "      <td></td>\n",
       "      <td></td>\n",
       "      <td>http://www.wine.com/v6/Calcu-Cabernet-Sauvigno...</td>\n",
       "      <td>8</td>\n",
       "    </tr>\n",
       "  </tbody>\n",
       "</table>\n",
       "</div>"
      ],
      "text/plain": [
       "       author       date        location  rating review style  \\\n",
       "138  ljube172 2016-08-19  Pittsburgh, PA       3                \n",
       "\n",
       "                                                   url  url_no  \n",
       "138  http://www.wine.com/v6/Calcu-Cabernet-Sauvigno...       8  "
      ]
     },
     "execution_count": 54,
     "metadata": {},
     "output_type": "execute_result"
    }
   ],
   "source": [
    "mask = reviews.url_no==8\n",
    "reviews.loc[mask]"
   ]
  },
  {
   "cell_type": "code",
   "execution_count": 55,
   "metadata": {
    "collapsed": false
   },
   "outputs": [
    {
     "data": {
      "text/html": [
       "<div>\n",
       "<table border=\"1\" class=\"dataframe\">\n",
       "  <thead>\n",
       "    <tr style=\"text-align: right;\">\n",
       "      <th></th>\n",
       "      <th>author</th>\n",
       "      <th>date</th>\n",
       "      <th>location</th>\n",
       "      <th>rating</th>\n",
       "      <th>review</th>\n",
       "      <th>style</th>\n",
       "      <th>url</th>\n",
       "      <th>url_no</th>\n",
       "    </tr>\n",
       "  </thead>\n",
       "  <tbody>\n",
       "    <tr>\n",
       "      <th>138</th>\n",
       "      <td>ljube172</td>\n",
       "      <td>2016-08-19</td>\n",
       "      <td>Pittsburgh, PA</td>\n",
       "      <td>3</td>\n",
       "      <td></td>\n",
       "      <td></td>\n",
       "      <td>http://www.wine.com/v6/Calcu-Cabernet-Sauvigno...</td>\n",
       "      <td>8</td>\n",
       "    </tr>\n",
       "  </tbody>\n",
       "</table>\n",
       "</div>"
      ],
      "text/plain": [
       "       author       date        location  rating review style  \\\n",
       "138  ljube172 2016-08-19  Pittsburgh, PA       3                \n",
       "\n",
       "                                                   url  url_no  \n",
       "138  http://www.wine.com/v6/Calcu-Cabernet-Sauvigno...       8  "
      ]
     },
     "execution_count": 55,
     "metadata": {},
     "output_type": "execute_result"
    }
   ],
   "source": [
    "mask = reviews.author=='ljube172'\n",
    "reviews.loc[mask]"
   ]
  },
  {
   "cell_type": "code",
   "execution_count": null,
   "metadata": {
    "collapsed": true
   },
   "outputs": [],
   "source": []
  }
 ],
 "metadata": {
  "anaconda-cloud": {},
  "kernelspec": {
   "display_name": "Python [conda env:scienv2]",
   "language": "python",
   "name": "conda-env-scienv2-py"
  },
  "language_info": {
   "codemirror_mode": {
    "name": "ipython",
    "version": 2
   },
   "file_extension": ".py",
   "mimetype": "text/x-python",
   "name": "python",
   "nbconvert_exporter": "python",
   "pygments_lexer": "ipython2",
   "version": "2.7.12"
  }
 },
 "nbformat": 4,
 "nbformat_minor": 1
}
