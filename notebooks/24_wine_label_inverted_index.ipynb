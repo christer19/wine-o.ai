{
 "cells": [
  {
   "cell_type": "code",
   "execution_count": 76,
   "metadata": {
    "collapsed": true
   },
   "outputs": [],
   "source": [
    "import pandas as pd\n",
    "import numpy as np\n",
    "import os\n",
    "import h5py\n",
    "import dill\n",
    "import warnings"
   ]
  },
  {
   "cell_type": "markdown",
   "metadata": {},
   "source": [
    "# Create inverted index of files with clusters"
   ]
  },
  {
   "cell_type": "code",
   "execution_count": 82,
   "metadata": {},
   "outputs": [
    {
     "name": "stdout",
     "output_type": "stream",
     "text": [
      "1500\n",
      "1536\n",
      "2000\n",
      "2500\n",
      "3000\n",
      "5000\n"
     ]
    }
   ],
   "source": [
    "warnings.filterwarnings('ignore')\n",
    "\n",
    "hist_file = '../priv/data/hist.h5'\n",
    "hs = h5py.File(hist_file, 'r')\n",
    "\n",
    "features_file = '../priv/data/features.h5'\n",
    "ft = pd.HDFStore(features_file, 'r')\n",
    "files = ft['image_path'].values\n",
    "ft.close()\n",
    "\n",
    "index_file = '../priv/data/inverted_index.h5'\n",
    "ix = pd.HDFStore(index_file, 'w')\n",
    "\n",
    "for ncluster in hs.keys():\n",
    "        \n",
    "    print ncluster\n",
    "    # Get the histograms for a given number of clusters\n",
    "    dat = hs[ncluster]\n",
    "    \n",
    "    df_list = list()\n",
    "    for clust in range(dat.shape[1]):\n",
    "        \n",
    "        # All files that have data at a given cluster\n",
    "        file_index = np.where(dat[:, clust] !=0 )[0]\n",
    "        clust_counts = dat[:, clust][file_index].astype(int)\n",
    "        df = pd.DataFrame({'file':files[file_index], \n",
    "                           'count':clust_counts},\n",
    "                          index = pd.Index([clust] * len(file_index)))\n",
    "        df_list.append(df)\n",
    "        \n",
    "    cluster_df = pd.concat(df_list)\n",
    "    ix.append(ncluster, cluster_df)\n",
    "        \n",
    "hs.close()\n",
    "ix.close()\n"
   ]
  }
 ],
 "metadata": {
  "anaconda-cloud": {},
  "kernelspec": {
   "display_name": "Python [default]",
   "language": "python",
   "name": "python2"
  },
  "language_info": {
   "codemirror_mode": {
    "name": "ipython",
    "version": 2
   },
   "file_extension": ".py",
   "mimetype": "text/x-python",
   "name": "python",
   "nbconvert_exporter": "python",
   "pygments_lexer": "ipython2",
   "version": "2.7.13"
  }
 },
 "nbformat": 4,
 "nbformat_minor": 1
}
