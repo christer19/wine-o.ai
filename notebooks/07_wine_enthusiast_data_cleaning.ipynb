{
 "cells": [
  {
   "cell_type": "markdown",
   "metadata": {},
   "source": [
    "# Combine and clean expert reviews from WineEnthusiast.com"
   ]
  },
  {
   "cell_type": "code",
   "execution_count": 1,
   "metadata": {
    "collapsed": false
   },
   "outputs": [],
   "source": [
    "import pandas as pd\n",
    "import dill\n",
    "from glob import glob\n",
    "import re\n",
    "import numpy as np\n",
    "\n",
    "%matplotlib inline\n",
    "import matplotlib.pyplot as plt"
   ]
  },
  {
   "cell_type": "markdown",
   "metadata": {},
   "source": [
    "## Aggregate the reviews"
   ]
  },
  {
   "cell_type": "code",
   "execution_count": 2,
   "metadata": {
    "collapsed": false,
    "scrolled": true
   },
   "outputs": [
    {
     "name": "stdout",
     "output_type": "stream",
     "text": [
      "0\n"
     ]
    },
    {
     "data": {
      "text/plain": [
       "array([], dtype=int64)"
      ]
     },
     "execution_count": 2,
     "metadata": {},
     "output_type": "execute_result"
    }
   ],
   "source": [
    "# # Read in the entire list and sort it numerically\n",
    "file_list = glob('../priv/pkl/06_wine_enthusiast_dot_com_data_*.pkl')\n",
    "int_sorter = lambda x: int(re.search(r\"\"\"06_wine_enthusiast_dot_com_data_(.+).pkl\"\"\", x).group(1))\n",
    "file_list = sorted(file_list, key=int_sorter)\n",
    "\n",
    "full_list = np.arange(1,6530)\n",
    "num_list = np.array([int_sorter(x) for x in file_list])\n",
    "\n",
    "mask = np.invert(np.in1d(full_list, num_list))\n",
    "print(sum(mask))\n",
    "full_list[mask]"
   ]
  },
  {
   "cell_type": "code",
   "execution_count": 3,
   "metadata": {
    "collapsed": false
   },
   "outputs": [
    {
     "name": "stdout",
     "output_type": "stream",
     "text": [
      "1443\n",
      "alcohol              313\n",
      "appellation          315\n",
      "bottle_size          313\n",
      "category             313\n",
      "date_published       313\n",
      "designation        60870\n",
      "importer           83852\n",
      "list_url_no            0\n",
      "price                313\n",
      "rating                 0\n",
      "review                 0\n",
      "title                  0\n",
      "url                    0\n",
      "user_avg_rating      313\n",
      "variety              316\n",
      "winery               313\n",
      "dtype: int64\n"
     ]
    }
   ],
   "source": [
    "# Read in just the last 32 files to check them\n",
    "# file_list = ! ls -tr ../pkl/06_wine_enthusiast_dot_com_data* | tail -n 32\n",
    "\n",
    "# Load and combine the data for the list of files\n",
    "combined_data = list()\n",
    "for fil in file_list:\n",
    "    \n",
    "    with open(fil, 'r') as fh:\n",
    "        \n",
    "        data = dill.load(fh)\n",
    "        \n",
    "        for key in data.keys():\n",
    "            \n",
    "            dat = data[key]\n",
    "            \n",
    "            if isinstance(dat, pd.Series):\n",
    "                dat['url'] = key[1]\n",
    "                dat['list_url_no'] = key[0]\n",
    "                combined_data.append(dat)\n",
    "            else:\n",
    "                print(key)\n",
    "                \n",
    "combined_df = pd.concat(combined_data, axis=1).T\n",
    "\n",
    "\n",
    "print((combined_df.review.apply(lambda x: len(x))==0).sum())\n",
    "print(combined_df.isnull().sum())"
   ]
  },
  {
   "cell_type": "code",
   "execution_count": 4,
   "metadata": {
    "collapsed": false
   },
   "outputs": [
    {
     "data": {
      "text/plain": [
       "(195449, 16)"
      ]
     },
     "execution_count": 4,
     "metadata": {},
     "output_type": "execute_result"
    }
   ],
   "source": [
    "combined_df.shape"
   ]
  },
  {
   "cell_type": "markdown",
   "metadata": {},
   "source": [
    "## Clean reviews"
   ]
  },
  {
   "cell_type": "code",
   "execution_count": 5,
   "metadata": {
    "collapsed": false
   },
   "outputs": [
    {
     "data": {
      "text/plain": [
       "(194006, 16)"
      ]
     },
     "execution_count": 5,
     "metadata": {},
     "output_type": "execute_result"
    }
   ],
   "source": [
    "# Drop the ones without reviews\n",
    "mask = combined_df.review.apply(lambda x: len(x)==0).pipe(np.invert)\n",
    "combined_df = combined_df.loc[mask]\n",
    "combined_df.shape"
   ]
  },
  {
   "cell_type": "code",
   "execution_count": 6,
   "metadata": {
    "collapsed": false
   },
   "outputs": [],
   "source": [
    "# Convert prices to floats, have to remove the 'buy now'\n",
    "replace_string = combined_df.loc[combined_df.price.str.contains('Buy Now'), \n",
    "                                 'price'].unique()[0]\n",
    "combined_df.loc[combined_df.price==replace_string, 'price'] = np.NaN\n",
    "\n",
    "combined_df['price'] = combined_df.price.astype(float)"
   ]
  },
  {
   "cell_type": "code",
   "execution_count": 7,
   "metadata": {
    "collapsed": false
   },
   "outputs": [],
   "source": [
    "combined_df['rating'] = combined_df.rating.astype(float)"
   ]
  },
  {
   "cell_type": "code",
   "execution_count": 8,
   "metadata": {
    "collapsed": false
   },
   "outputs": [],
   "source": [
    "# There are some % alcohol values that are way too high (above 100), \n",
    "# set anything above 50% to NaN\n",
    "mask = combined_df.alcohol!='N/A'\n",
    "combined_df.loc[mask, 'alcohol'] = combined_df.loc[mask,'alcohol'].str.replace(r\"\"\"\\s*%\"\"\",'')\n",
    "combined_df.loc[mask.pipe(np.invert), 'alcohol'] = np.NaN\n",
    "combined_df['alcohol'] = combined_df.alcohol.astype(float)"
   ]
  },
  {
   "cell_type": "code",
   "execution_count": 9,
   "metadata": {
    "collapsed": false
   },
   "outputs": [],
   "source": [
    "mask = combined_df.alcohol >= 40.0\n",
    "combined_df.loc[mask, 'alcohol'] = np.NaN"
   ]
  },
  {
   "cell_type": "code",
   "execution_count": 10,
   "metadata": {
    "collapsed": false
   },
   "outputs": [],
   "source": [
    "# Fixing bottle size requires some more extensive work\n",
    "mask_L = combined_df.bottle_size.str.contains('L')\n",
    "mask_ml = combined_df.bottle_size.str.contains('ml')\n",
    "mask_M = combined_df.bottle_size.str.contains('ML')\n",
    "\n",
    "combined_df.loc[mask_M, 'bottle_size'] = (combined_df\n",
    "                                           .loc[mask_M, 'bottle_size']\n",
    "                                           .str.replace(r\"\"\"ML\"\"\",'')\n",
    "                                           .astype(float))\n",
    "\n",
    "combined_df.loc[mask_L, 'bottle_size'] = (combined_df\n",
    "                                       .loc[mask_L, 'bottle_size']\n",
    "                                       .str.replace(r\"\"\"\\s*L\"\"\",'')\n",
    "                                       .astype(float)*1000)\n",
    "\n",
    "combined_df.loc[mask_ml, 'bottle_size'] = (combined_df\n",
    "                                           .loc[mask_ml, 'bottle_size']\n",
    "                                           .str.replace(r\"\"\"\\s*ml\"\"\",'')\n",
    "                                           .astype(float))\n",
    "\n",
    "combined_df['bottle_size'] = combined_df.bottle_size.astype(float)"
   ]
  },
  {
   "cell_type": "code",
   "execution_count": 11,
   "metadata": {
    "collapsed": false
   },
   "outputs": [],
   "source": [
    "combined_df['date_published'] = pd.to_datetime(combined_df.date_published)"
   ]
  },
  {
   "cell_type": "code",
   "execution_count": 12,
   "metadata": {
    "collapsed": false
   },
   "outputs": [],
   "source": [
    "# Was cleaning user ratings, but I decided to discard them as not useful\n",
    "# combined_df['user_avg_rating'] = combined_df.user_avg_rating.str.replace(r\"\"\" \\[Add Your Review\\]\"\"\",'').head()\n",
    "# combined_df.user_avg_rating.unique()\n",
    "del combined_df['user_avg_rating']"
   ]
  },
  {
   "cell_type": "code",
   "execution_count": 13,
   "metadata": {
    "collapsed": true
   },
   "outputs": [],
   "source": [
    "# Some reviewers sign their reviews--remove these initials\n",
    "mask = combined_df.review.str.contains(r\"\"\"\\s+-\\s?[A-Z]\\.[A-Z]\\.$\"\"\")\n",
    "combined_df.loc[mask,'review'] = (combined_df\n",
    "                                  .loc[mask,'review']\n",
    "                                  .str.replace(r\"\"\"\\s+-\\s?[A-Z]\\.[A-Z]\\.$\"\"\", ''))"
   ]
  },
  {
   "cell_type": "code",
   "execution_count": 15,
   "metadata": {
    "collapsed": false
   },
   "outputs": [
    {
     "data": {
      "text/plain": [
       "0    Williams Selyem 2014 Heintz Vineyard Chardonna...\n",
       "1    Château Pierre-Bise 2011 Grand Cru  (Quarts de...\n",
       "2    Wayfarer 2014 Paige's Ridge Pinot Noir (Fort R...\n",
       "3        Château de Fesles 2011 Vin Rare  (Bonnezeaux)\n",
       "4    Chanin 2014 Los Alamos Vineyard Pinot Noir (Sa...\n",
       "Name: title, dtype: object"
      ]
     },
     "execution_count": 15,
     "metadata": {},
     "output_type": "execute_result"
    }
   ],
   "source": [
    "combined_df['title'].head()"
   ]
  },
  {
   "cell_type": "code",
   "execution_count": 27,
   "metadata": {
    "collapsed": false
   },
   "outputs": [],
   "source": [
    "def convert_year(ser):\n",
    "    try:\n",
    "        return int(ser)\n",
    "    except:\n",
    "        return ser\n",
    "    \n",
    "combined_df['year'] = combined_df['title'].str.extract(r\"\"\" ((?:19|20)[0-9]{2}) \"\"\", expand=True).apply(convert_year)"
   ]
  },
  {
   "cell_type": "code",
   "execution_count": 28,
   "metadata": {
    "collapsed": false
   },
   "outputs": [
    {
     "data": {
      "text/plain": [
       "6706"
      ]
     },
     "execution_count": 28,
     "metadata": {},
     "output_type": "execute_result"
    }
   ],
   "source": [
    "combined_df.year.isnull().sum()"
   ]
  },
  {
   "cell_type": "code",
   "execution_count": 29,
   "metadata": {
    "collapsed": false
   },
   "outputs": [],
   "source": [
    "# Discard blends\n",
    "mask = combined_df.variety.str.contains('Blend').astype(np.bool).pipe(np.invert)\n",
    "combined_df = combined_df.loc[mask]"
   ]
  },
  {
   "cell_type": "code",
   "execution_count": 30,
   "metadata": {
    "collapsed": false
   },
   "outputs": [
    {
     "data": {
      "text/plain": [
       "(151486, 16)"
      ]
     },
     "execution_count": 30,
     "metadata": {},
     "output_type": "execute_result"
    }
   ],
   "source": [
    "combined_df.shape"
   ]
  },
  {
   "cell_type": "code",
   "execution_count": 31,
   "metadata": {
    "collapsed": false
   },
   "outputs": [
    {
     "data": {
      "text/plain": [
       "array([u'White', u'Dessert', u'Red', u'Rose', u'Sparkling', u'Port/Sherry',\n",
       "       u'Fortified'], dtype=object)"
      ]
     },
     "execution_count": 31,
     "metadata": {},
     "output_type": "execute_result"
    }
   ],
   "source": [
    "# Discard all types except White, Red, and Rose\n",
    "combined_df.category.unique()"
   ]
  },
  {
   "cell_type": "code",
   "execution_count": 32,
   "metadata": {
    "collapsed": false
   },
   "outputs": [
    {
     "data": {
      "text/plain": [
       "(145908, 16)"
      ]
     },
     "execution_count": 32,
     "metadata": {},
     "output_type": "execute_result"
    }
   ],
   "source": [
    "mask = combined_df.category.isin(['White', 'Red', 'Rose'])\n",
    "combined_df = combined_df.loc[mask]\n",
    "combined_df.shape"
   ]
  },
  {
   "cell_type": "code",
   "execution_count": 33,
   "metadata": {
    "collapsed": false,
    "scrolled": true
   },
   "outputs": [],
   "source": [
    "# Clean up of wine variety names\n",
    "# Now rename  probematic class names\n",
    "\n",
    "#### Untouched class names ####\n",
    "# Barbera                                        1091\n",
    "# Cabernet Franc                                 1733\n",
    "# Cabernet Sauvignon                            15830\n",
    "# Chardonnay                                    17800\n",
    "# Chenin Blanc                                    767\n",
    "# Malbec                                         3681\n",
    "# Merlot                                         6699\n",
    "# Petit Verdot                                    287\n",
    "# Pinot Blanc                                     634\n",
    "# Pinot Noir                                    18284\n",
    "# Pinotage                                        323\n",
    "# Portuguese Red                                 2721\n",
    "# Portuguese White                               1136\n",
    "# Tempranillo                                    2976\n",
    "# Viognier                                       1689\n",
    "# Zinfandel                                      5216\n",
    "# Gamay                                          1028\n",
    "# Grenache                                        768\n",
    "# Nebbiolo                                       3212\n",
    "# Riesling                                       6819\n",
    "# Sangiovese                                     4193\n",
    "# Sauvignon Blanc                                7650\n",
    "\n",
    "rename_dict = {'Aglianico, Italian Red'         :   'Aglianico',\n",
    " 'Albariño'                                     :   'Albarino',\n",
    " 'Blaufränkisch, Other Red'                     :   'Blaufrankisch',\n",
    " 'Carmenère'                                    :   'Carmenere',\n",
    " 'Corvina, Rondinella, Molinara, Italian Red'   :   'Corvina',\n",
    " 'Dolcetto, Italian Red'                        :   'Dolcetto',\n",
    " 'Garganega, Italian White'                     :   'Garganega',\n",
    " 'Garnacha, Grenache'                           :   'Grenache',\n",
    " 'Gewürztraminer'                               :   'Gewurztraminer',\n",
    " 'Gewürztraminer, Gewürztraminer'               :   'Gewurztraminer',\n",
    " 'Grüner Veltliner'                             :   'Gruner Veltliner',\n",
    " 'Melon, Other White'                           :   'Melon',\n",
    " 'Montepulciano, Italian Red'                   :   'Montepulciano',\n",
    " 'Mourvèdre'                                    :   'Mourvedre',\n",
    " \"Nero d'Avola, Italian Red\"                    :   \"Nero d Avola\",\n",
    " 'Petite Sirah'                                 :   'Petite Syrah',\n",
    " 'Pinot Grigio, Pinot Grigio/Gris'              :   'Pinot Grigio',\n",
    " 'Pinot Gris, Pinot Grigio/Gris'                :   'Pinot Grigio',\n",
    " 'Primitivo, Zinfandel'                         :   'Zinfandel',\n",
    " 'Rosé'                                         :   'Rose',\n",
    " 'Sangiovese Grosso, Sangiovese'                :   'Sangiovese',\n",
    " 'Sauvignon, Sauvignon Blanc'                   :   'Sauvignon Blanc',\n",
    " 'Shiraz, Shiraz/Syrah'                         :   'Syrah',\n",
    " 'Syrah, Shiraz/Syrah'                          :   'Syrah',\n",
    " 'Tinta de Toro, Tempranillo'                   :   'Tempranillo',\n",
    " 'Torrontés'                                    :   'Torrontes',\n",
    " 'Verdejo, Spanish White'                       :   'Verdejo',\n",
    " 'Vermentino, Italian White'                    :   'Vermentino'}\n",
    "\n",
    "def val_rename(val):\n",
    "    if val in rename_dict.keys():\n",
    "        return rename_dict[val]\n",
    "    else:\n",
    "        return val\n",
    "    \n",
    "combined_df['variety'] = combined_df.variety.apply(lambda x: val_rename(x))\n"
   ]
  },
  {
   "cell_type": "code",
   "execution_count": 34,
   "metadata": {
    "collapsed": false,
    "scrolled": false
   },
   "outputs": [
    {
     "data": {
      "text/html": [
       "<div>\n",
       "<table border=\"1\" class=\"dataframe\">\n",
       "  <thead>\n",
       "    <tr style=\"text-align: right;\">\n",
       "      <th></th>\n",
       "      <th>category</th>\n",
       "      <th>variety</th>\n",
       "      <th>count</th>\n",
       "    </tr>\n",
       "  </thead>\n",
       "  <tbody>\n",
       "    <tr>\n",
       "      <th>0</th>\n",
       "      <td>Red</td>\n",
       "      <td>Pinot Noir</td>\n",
       "      <td>17973</td>\n",
       "    </tr>\n",
       "    <tr>\n",
       "      <th>1</th>\n",
       "      <td>White</td>\n",
       "      <td>Chardonnay</td>\n",
       "      <td>17696</td>\n",
       "    </tr>\n",
       "    <tr>\n",
       "      <th>2</th>\n",
       "      <td>Red</td>\n",
       "      <td>Cabernet Sauvignon</td>\n",
       "      <td>15730</td>\n",
       "    </tr>\n",
       "    <tr>\n",
       "      <th>3</th>\n",
       "      <td>Red</td>\n",
       "      <td>Syrah</td>\n",
       "      <td>10128</td>\n",
       "    </tr>\n",
       "    <tr>\n",
       "      <th>4</th>\n",
       "      <td>White</td>\n",
       "      <td>Sauvignon Blanc</td>\n",
       "      <td>7980</td>\n",
       "    </tr>\n",
       "    <tr>\n",
       "      <th>5</th>\n",
       "      <td>White</td>\n",
       "      <td>Riesling</td>\n",
       "      <td>6807</td>\n",
       "    </tr>\n",
       "    <tr>\n",
       "      <th>6</th>\n",
       "      <td>Red</td>\n",
       "      <td>Merlot</td>\n",
       "      <td>6640</td>\n",
       "    </tr>\n",
       "    <tr>\n",
       "      <th>7</th>\n",
       "      <td>Red</td>\n",
       "      <td>Zinfandel</td>\n",
       "      <td>5440</td>\n",
       "    </tr>\n",
       "    <tr>\n",
       "      <th>8</th>\n",
       "      <td>Red</td>\n",
       "      <td>Sangiovese</td>\n",
       "      <td>5424</td>\n",
       "    </tr>\n",
       "    <tr>\n",
       "      <th>9</th>\n",
       "      <td>White</td>\n",
       "      <td>Pinot Grigio</td>\n",
       "      <td>3880</td>\n",
       "    </tr>\n",
       "    <tr>\n",
       "      <th>10</th>\n",
       "      <td>Red</td>\n",
       "      <td>Malbec</td>\n",
       "      <td>3620</td>\n",
       "    </tr>\n",
       "    <tr>\n",
       "      <th>11</th>\n",
       "      <td>Rose</td>\n",
       "      <td>Rose</td>\n",
       "      <td>3542</td>\n",
       "    </tr>\n",
       "    <tr>\n",
       "      <th>12</th>\n",
       "      <td>Red</td>\n",
       "      <td>Nebbiolo</td>\n",
       "      <td>3202</td>\n",
       "    </tr>\n",
       "    <tr>\n",
       "      <th>13</th>\n",
       "      <td>Red</td>\n",
       "      <td>Tempranillo</td>\n",
       "      <td>3197</td>\n",
       "    </tr>\n",
       "    <tr>\n",
       "      <th>14</th>\n",
       "      <td>Red</td>\n",
       "      <td>Portuguese Red</td>\n",
       "      <td>2700</td>\n",
       "    </tr>\n",
       "    <tr>\n",
       "      <th>15</th>\n",
       "      <td>Red</td>\n",
       "      <td>Cabernet Franc</td>\n",
       "      <td>1682</td>\n",
       "    </tr>\n",
       "    <tr>\n",
       "      <th>16</th>\n",
       "      <td>White</td>\n",
       "      <td>Viognier</td>\n",
       "      <td>1678</td>\n",
       "    </tr>\n",
       "    <tr>\n",
       "      <th>17</th>\n",
       "      <td>White</td>\n",
       "      <td>Gruner Veltliner</td>\n",
       "      <td>1506</td>\n",
       "    </tr>\n",
       "    <tr>\n",
       "      <th>18</th>\n",
       "      <td>Red</td>\n",
       "      <td>Corvina</td>\n",
       "      <td>1420</td>\n",
       "    </tr>\n",
       "    <tr>\n",
       "      <th>19</th>\n",
       "      <td>White</td>\n",
       "      <td>Gewurztraminer</td>\n",
       "      <td>1254</td>\n",
       "    </tr>\n",
       "  </tbody>\n",
       "</table>\n",
       "</div>"
      ],
      "text/plain": [
       "   category             variety  count\n",
       "0       Red          Pinot Noir  17973\n",
       "1     White          Chardonnay  17696\n",
       "2       Red  Cabernet Sauvignon  15730\n",
       "3       Red               Syrah  10128\n",
       "4     White     Sauvignon Blanc   7980\n",
       "5     White            Riesling   6807\n",
       "6       Red              Merlot   6640\n",
       "7       Red           Zinfandel   5440\n",
       "8       Red          Sangiovese   5424\n",
       "9     White        Pinot Grigio   3880\n",
       "10      Red              Malbec   3620\n",
       "11     Rose                Rose   3542\n",
       "12      Red            Nebbiolo   3202\n",
       "13      Red         Tempranillo   3197\n",
       "14      Red      Portuguese Red   2700\n",
       "15      Red      Cabernet Franc   1682\n",
       "16    White            Viognier   1678\n",
       "17    White    Gruner Veltliner   1506\n",
       "18      Red             Corvina   1420\n",
       "19    White      Gewurztraminer   1254"
      ]
     },
     "execution_count": 34,
     "metadata": {},
     "output_type": "execute_result"
    }
   ],
   "source": [
    "wine_varieties = combined_df[['variety','category']].groupby(['category','variety']).size()\n",
    "wine_varieties_vc = wine_varieties.sort_values(ascending=False).reset_index().rename(columns={0:'count'})\n",
    "wine_varieties_vc = wine_varieties_vc.query(\"count>=1200\")\n",
    "wine_varieties_vc"
   ]
  },
  {
   "cell_type": "code",
   "execution_count": 35,
   "metadata": {
    "collapsed": false
   },
   "outputs": [
    {
     "data": {
      "text/plain": [
       "30000"
      ]
     },
     "execution_count": 35,
     "metadata": {},
     "output_type": "execute_result"
    }
   ],
   "source": [
    "20*1500"
   ]
  },
  {
   "cell_type": "code",
   "execution_count": 36,
   "metadata": {
    "collapsed": false
   },
   "outputs": [],
   "source": [
    "combined_df_sampled = list()\n",
    "\n",
    "for idx,dat in wine_varieties_vc.iterrows():\n",
    "    \n",
    "    mask = (combined_df.category==dat.category)&(combined_df.variety==dat.variety)\n",
    "    combined_df_cat = combined_df.loc[mask]\n",
    "    \n",
    "    if dat['count'] < 1500:\n",
    "        index = combined_df_cat.index\n",
    "    else:\n",
    "        index = np.random.choice(combined_df_cat.index, 1500, replace=False)\n",
    "        \n",
    "    combined_df_sampled.append(combined_df_cat.loc[index])\n",
    "        \n",
    "combined_df_sampled = pd.concat(combined_df_sampled, axis=0)        "
   ]
  },
  {
   "cell_type": "code",
   "execution_count": 37,
   "metadata": {
    "collapsed": false
   },
   "outputs": [
    {
     "data": {
      "text/plain": [
       "variety             category\n",
       "Cabernet Franc      Red         1500\n",
       "Cabernet Sauvignon  Red         1500\n",
       "Chardonnay          White       1500\n",
       "Corvina             Red         1420\n",
       "Gewurztraminer      White       1254\n",
       "Gruner Veltliner    White       1500\n",
       "Malbec              Red         1500\n",
       "Merlot              Red         1500\n",
       "Nebbiolo            Red         1500\n",
       "Pinot Grigio        White       1500\n",
       "Pinot Noir          Red         1500\n",
       "Portuguese Red      Red         1500\n",
       "Riesling            White       1500\n",
       "Rose                Rose        1500\n",
       "Sangiovese          Red         1500\n",
       "Sauvignon Blanc     White       1500\n",
       "Syrah               Red         1500\n",
       "Tempranillo         Red         1500\n",
       "Viognier            White       1500\n",
       "Zinfandel           Red         1500\n",
       "dtype: int64"
      ]
     },
     "execution_count": 37,
     "metadata": {},
     "output_type": "execute_result"
    }
   ],
   "source": [
    "combined_df_sampled.groupby(['variety','category']).size()"
   ]
  },
  {
   "cell_type": "code",
   "execution_count": 38,
   "metadata": {
    "collapsed": true
   },
   "outputs": [],
   "source": [
    "combined_df_sampled.to_pickle('../priv/pkl/07_wine_enthusiast_data_small_cleaned.pkl')"
   ]
  },
  {
   "cell_type": "markdown",
   "metadata": {},
   "source": [
    "## Initial cut of data\n",
    "Based simply on class size"
   ]
  },
  {
   "cell_type": "code",
   "execution_count": 158,
   "metadata": {
    "collapsed": false
   },
   "outputs": [
    {
     "data": {
      "text/plain": [
       "((29,), 0.89095868629547381)"
      ]
     },
     "execution_count": 158,
     "metadata": {},
     "output_type": "execute_result"
    }
   ],
   "source": [
    "# Keeping only those with at least 250 members cuts the number of varieties down to 50 but retains 93% of data\n",
    "mask1 = wine_varieties>=500\n",
    "wine_varieties.loc[mask1].shape, wine_varieties.loc[mask1].sum()/float(wine_varieties.sum())"
   ]
  },
  {
   "cell_type": "code",
   "execution_count": 159,
   "metadata": {
    "collapsed": false
   },
   "outputs": [
    {
     "name": "stdout",
     "output_type": "stream",
     "text": [
      "129998 145908 29\n"
     ]
    }
   ],
   "source": [
    "print wine_varieties.loc[mask1].sum(), wine_varieties.sum(), wine_varieties.loc[mask1].nunique()\n",
    "# print wine_varieties.sort_values(ascending=False).iloc[:wine_varieties.loc[mask1].nunique()]"
   ]
  },
  {
   "cell_type": "code",
   "execution_count": 161,
   "metadata": {
    "collapsed": false
   },
   "outputs": [
    {
     "name": "stdout",
     "output_type": "stream",
     "text": [
      "(0, 15)\n"
     ]
    }
   ],
   "source": [
    "wine_varieties = wine_varieties.loc[mask1]\n",
    "\n",
    "mask2 = combined_df.variety.isin(wine_varieties.index.values.tolist())\n",
    "combined_df_large_output = combined_df.loc[mask2]\n",
    "print(combined_df_large_output.shape)"
   ]
  },
  {
   "cell_type": "code",
   "execution_count": 142,
   "metadata": {
    "collapsed": false
   },
   "outputs": [
    {
     "data": {
      "text/plain": [
       "Series([], Name: variety, dtype: int64)"
      ]
     },
     "execution_count": 142,
     "metadata": {},
     "output_type": "execute_result"
    }
   ],
   "source": [
    "combined_df_large_output.variety.value_counts().sort_index()"
   ]
  },
  {
   "cell_type": "code",
   "execution_count": null,
   "metadata": {
    "collapsed": true
   },
   "outputs": [],
   "source": [
    "combined_df.to_pickle('../priv/pkl/07_wine_enthusiast_data_cleaned.pkl')"
   ]
  }
 ],
 "metadata": {
  "anaconda-cloud": {},
  "kernelspec": {
   "display_name": "Python [default]",
   "language": "python",
   "name": "python2"
  },
  "language_info": {
   "codemirror_mode": {
    "name": "ipython",
    "version": 2
   },
   "file_extension": ".py",
   "mimetype": "text/x-python",
   "name": "python",
   "nbconvert_exporter": "python",
   "pygments_lexer": "ipython2",
   "version": "2.7.12"
  }
 },
 "nbformat": 4,
 "nbformat_minor": 0
}
