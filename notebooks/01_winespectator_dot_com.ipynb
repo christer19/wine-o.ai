{
 "cells": [
  {
   "cell_type": "markdown",
   "metadata": {},
   "source": [
    "# Scrape Winespectator.com\n",
    "\n",
    "Scrape the daily picks (reviews) from [WineSpectator.com](http://winespectator.com)."
   ]
  },
  {
   "cell_type": "code",
   "execution_count": 32,
   "metadata": {
    "ExecuteTime": {
     "end_time": "2016-08-11T06:08:51.570350",
     "start_time": "2016-08-11T06:08:51.562691"
    },
    "collapsed": false
   },
   "outputs": [],
   "source": [
    "import pandas as pd\n",
    "import numpy as np\n",
    "\n",
    "import requests\n",
    "from bs4 import BeautifulSoup\n",
    "from selenium import webdriver\n",
    "\n",
    "import dill\n",
    "import re\n",
    "import time\n",
    "\n",
    "from winespectator_login import winespectator_login_name, winespectator_password\n",
    "\n",
    "%matplotlib inline\n",
    "import matplotlib.pyplot as plt\n",
    "import seaborn as sns"
   ]
  },
  {
   "cell_type": "markdown",
   "metadata": {},
   "source": [
    "## Scrape the list of wines\n",
    "\n",
    "Get the list of daily pick URLs"
   ]
  },
  {
   "cell_type": "code",
   "execution_count": 33,
   "metadata": {
    "ExecuteTime": {
     "end_time": "2016-08-10T17:00:22.260528",
     "start_time": "2016-08-10T16:55:48.461994"
    },
    "collapsed": false
   },
   "outputs": [],
   "source": [
    "base_url = 'http://www.winespectator.com/dailypicks/category/catid/1/page/{}'\n",
    "\n",
    "url_list = list()\n",
    "\n",
    "for pg in range(1, 867):\n",
    "    url = base_url.format(pg)\n",
    "    req = requests.get(url)\n",
    "    soup = BeautifulSoup(req.text, 'lxml')\n",
    "    \n",
    "    soup_list = soup.find_all(attrs={'class':'daily-wine-items'})\n",
    "    \n",
    "    if len(soup_list) > 0:\n",
    "        for sl in soup_list:\n",
    "            try:\n",
    "                url_list.append('http://www.winespectator.com/' + sl.find('a',href=True).get('href'))\n",
    "            except:\n",
    "                pass"
   ]
  },
  {
   "cell_type": "code",
   "execution_count": 36,
   "metadata": {
    "ExecuteTime": {
     "end_time": "2016-08-11T05:58:56.535133",
     "start_time": "2016-08-11T05:58:56.527017"
    },
    "collapsed": false
   },
   "outputs": [
    {
     "data": {
      "text/plain": [
       "4283"
      ]
     },
     "execution_count": 36,
     "metadata": {},
     "output_type": "execute_result"
    }
   ],
   "source": [
    "len(url_list)"
   ]
  },
  {
   "cell_type": "code",
   "execution_count": 38,
   "metadata": {
    "ExecuteTime": {
     "end_time": "2016-08-10T21:34:34.356795",
     "start_time": "2016-08-10T21:34:34.293595"
    },
    "collapsed": true
   },
   "outputs": [],
   "source": [
    "with open('../priv/pkl/01_winespectator_dot_com_url_list.pkl','w') as fh:\n",
    "    dill.dump(url_list, fh)"
   ]
  },
  {
   "cell_type": "code",
   "execution_count": 39,
   "metadata": {
    "collapsed": true
   },
   "outputs": [],
   "source": [
    "# url_list = dill.load(open('../priv/pkl/01_winespectator_dot_com_url_list.pkl','rb'))"
   ]
  },
  {
   "cell_type": "markdown",
   "metadata": {},
   "source": [
    "## Start the SSH tunnels"
   ]
  },
  {
   "cell_type": "code",
   "execution_count": 40,
   "metadata": {
    "ExecuteTime": {
     "end_time": "2016-08-11T06:12:52.377554",
     "start_time": "2016-08-11T06:12:27.741586"
    },
    "collapsed": false
   },
   "outputs": [],
   "source": [
    "# ! ssh -ND 8081 server1\n",
    "# ! ssh -ND 8082 server2\n",
    "# ! ssh -ND 8083 server3\n",
    "# ! ssh -ND 8084 server4\n",
    "\n",
    "phantom_path = '/usr/bin/phantomjs'\n",
    "\n",
    "service_args1 = ['--proxy=127.0.0.1:8081', '--proxy-type=socks5']\n",
    "service_args2 = ['--proxy=127.0.0.1:8082', '--proxy-type=socks5']\n",
    "service_args3 = ['--proxy=127.0.0.1:8083', '--proxy-type=socks5']\n",
    "service_args4 = ['--proxy=127.0.0.1:8084', '--proxy-type=socks5']\n",
    "\n",
    "driver1 = webdriver.PhantomJS(phantom_path, service_args=service_args1)\n",
    "driver2 = webdriver.PhantomJS(phantom_path, service_args=service_args2)\n",
    "driver3 = webdriver.PhantomJS(phantom_path, service_args=service_args3)\n",
    "driver4 = webdriver.PhantomJS(phantom_path, service_args=service_args4)\n",
    "\n",
    "driver_list = [driver1, driver2, driver3, driver4]\n",
    "\n",
    "for driver in driver_list:\n",
    "\n",
    "    driver.get('https://www.winespectator.com/auth/login')\n",
    "\n",
    "    userid = driver.find_element_by_name('userid')\n",
    "    userid.send_keys(winespectator_login_name)\n",
    "\n",
    "    passwd = driver.find_element_by_name('passwd')\n",
    "    passwd.send_keys(winespectator_password)\n",
    "\n",
    "    login = driver.find_element_by_id('target')\n",
    "    login.click()\n",
    "\n",
    "    time.sleep(1.5)"
   ]
  },
  {
   "cell_type": "markdown",
   "metadata": {},
   "source": [
    "# Scrape the articles"
   ]
  },
  {
   "cell_type": "code",
   "execution_count": null,
   "metadata": {
    "ExecuteTime": {
     "end_time": "2016-08-11T06:13:26.582018",
     "start_time": "2016-08-11T06:12:55.050576"
    },
    "collapsed": false
   },
   "outputs": [
    {
     "name": "stdout",
     "output_type": "stream",
     "text": [
      "0\n",
      "100\n",
      "200\n",
      "300\n",
      "400\n",
      "500\n",
      "600\n",
      "700\n",
      "800\n",
      "900\n",
      "1000\n",
      "1100\n",
      "1200\n",
      "1300\n",
      "1400\n",
      "1500\n",
      "1600\n",
      "1700\n",
      "1800\n",
      "1900\n",
      "2000\n",
      "2100\n",
      "2200\n",
      "2300\n",
      "2400\n",
      "2500\n",
      "2600\n"
     ]
    }
   ],
   "source": [
    "wine_df_list = list()\n",
    "\n",
    "for url in enumerate(url_list):\n",
    "    if (url[0] % 100) == 0:\n",
    "        print url[0]\n",
    "        \n",
    "    driver = np.random.choice(driver_list)\n",
    "    \n",
    "    full_url = url[1]\n",
    "    driver.get(full_url)\n",
    "    time.sleep(1.5)\n",
    "    \n",
    "    html = driver.page_source\n",
    "    \n",
    "    try:\n",
    "        soup = BeautifulSoup(html, 'lxml')\n",
    "        wine_data = soup.find(attrs={'class':'mod-container'})\n",
    "    except:\n",
    "        pass\n",
    "    \n",
    "    # extract winery name\n",
    "    try:\n",
    "        winery = wine_data.find('h1').text.strip()\n",
    "    except:\n",
    "        winery = ''\n",
    "    \n",
    "    # extract wine name\n",
    "    try:\n",
    "        wine = wine_data.find('h4').text.strip()\n",
    "    except:\n",
    "        pass\n",
    "\n",
    "    # extract year\n",
    "    try:\n",
    "        year = re.search(r\"\"\"((?:20|19)[0-9]{2})\"\"\", wine).group(1)\n",
    "        wine = wine.replace(year, '').strip()\n",
    "    except:\n",
    "        year = ''\n",
    "        \n",
    "    # extract review\n",
    "    try:\n",
    "        review = wine_data.find(attrs={'id':'bt-body'}).text.strip()\n",
    "    except:\n",
    "        review = ''\n",
    "        \n",
    "    # score\n",
    "    try:\n",
    "        score = wine_data.find(text=re.compile('Score: [0-9]{2}'))\n",
    "        score = score.replace('Score:', '').strip()\n",
    "    except:\n",
    "        score = ''\n",
    "        \n",
    "        \n",
    "    for para in wine_data.find_all(attrs={'class':'paragraph'}):\n",
    "        text = para.text\n",
    "\n",
    "        if 'Release Price' in text:\n",
    "            try:\n",
    "                release_price = re.search(r\"\"\"Release Price \\$([0-9\\.]+)\"\"\", text).group(1)\n",
    "            except:\n",
    "                release_price = ''\n",
    "        elif 'Country' in text:\n",
    "            try:\n",
    "                country = re.search(r\"\"\"Country (.+)\"\"\", text).group(1)\n",
    "            except:\n",
    "                country = ''\n",
    "        elif 'Region' in text:\n",
    "            try:\n",
    "                region = re.search(r\"\"\"Region (.+)\"\"\", text).group(1)\n",
    "            except:\n",
    "                region = ''\n",
    "    \n",
    "\n",
    "    df = pd.DataFrame({'winery':winery, 'wine':wine, 'year':year, 'score':score,\n",
    "                  'price':release_price, 'country':country, 'region':region,\n",
    "                  'review':review, 'url':full_url}, index=pd.Index([0]))\n",
    "    wine_df_list.append(df)"
   ]
  },
  {
   "cell_type": "code",
   "execution_count": null,
   "metadata": {
    "ExecuteTime": {
     "end_time": "2016-08-11T06:13:26.594959",
     "start_time": "2016-08-11T06:13:26.584371"
    },
    "collapsed": false
   },
   "outputs": [],
   "source": [
    "wine_df = pd.concat(wine_df_list, axis=0).reset_index(drop=True)"
   ]
  },
  {
   "cell_type": "code",
   "execution_count": null,
   "metadata": {
    "ExecuteTime": {
     "end_time": "2016-08-11T06:13:26.606019",
     "start_time": "2016-08-11T06:13:26.597178"
    },
    "collapsed": true
   },
   "outputs": [],
   "source": [
    "wine_df.to_pickle('../priv/pkl/01_winespectator_dot_com_data.pkl')"
   ]
  },
  {
   "cell_type": "code",
   "execution_count": null,
   "metadata": {
    "collapsed": false
   },
   "outputs": [],
   "source": [
    "wine_df.review.apply(len).hist(bins=100)"
   ]
  }
 ],
 "metadata": {
  "anaconda-cloud": {},
  "kernelspec": {
   "display_name": "Python [default]",
   "language": "python",
   "name": "python2"
  },
  "language_info": {
   "codemirror_mode": {
    "name": "ipython",
    "version": 2
   },
   "file_extension": ".py",
   "mimetype": "text/x-python",
   "name": "python",
   "nbconvert_exporter": "python",
   "pygments_lexer": "ipython2",
   "version": "2.7.12"
  }
 },
 "nbformat": 4,
 "nbformat_minor": 0
}
