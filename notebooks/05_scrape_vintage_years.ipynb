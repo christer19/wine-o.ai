{
 "cells": [
  {
   "cell_type": "markdown",
   "metadata": {},
   "source": [
    "# Scrape vintage years\n",
    "\n",
    "Scrape known vintage years for anticipated sentiment analysis as a function of year."
   ]
  },
  {
   "cell_type": "code",
   "execution_count": 1,
   "metadata": {
    "collapsed": true
   },
   "outputs": [],
   "source": [
    "import pandas as pd\n",
    "import numpy as np\n",
    "from bs4 import BeautifulSoup\n",
    "import requests"
   ]
  },
  {
   "cell_type": "code",
   "execution_count": 2,
   "metadata": {
    "collapsed": true
   },
   "outputs": [],
   "source": [
    "req = requests.get('http://www.erobertparker.com/newsearch/vintagechart1.aspx/VintageChart.aspx')"
   ]
  },
  {
   "cell_type": "code",
   "execution_count": 3,
   "metadata": {
    "collapsed": false
   },
   "outputs": [],
   "source": [
    "soup = BeautifulSoup(req.text, 'lxml')"
   ]
  },
  {
   "cell_type": "code",
   "execution_count": 4,
   "metadata": {
    "collapsed": true
   },
   "outputs": [],
   "source": [
    "charts = soup.find_all(attrs={'class':'chart'})"
   ]
  },
  {
   "cell_type": "markdown",
   "metadata": {},
   "source": [
    "Get the labels as a dataframe."
   ]
  },
  {
   "cell_type": "code",
   "execution_count": 5,
   "metadata": {
    "collapsed": false,
    "scrolled": false
   },
   "outputs": [],
   "source": [
    "labels = charts[0].find_all('tr')[1:-1]\n",
    "\n",
    "label_list = [[(y.find('img'), y.get('rowspan')) \n",
    "               for y in x.find_all('td')] \n",
    "              for x in labels]\n",
    "\n",
    "label_len = len(label_list)\n",
    "empty_list = [np.NaN]*label_len\n",
    "label_df = pd.DataFrame({'loc1':empty_list, 'loc2':empty_list, 'loc3':empty_list})\n",
    "\n",
    "for col in range(3):\n",
    "    pos = 0\n",
    "    while pos < label_len:\n",
    "\n",
    "        label = label_list[pos].pop(0)\n",
    "        \n",
    "        try:\n",
    "            text = label[0]\n",
    "            if text is None:\n",
    "                text = np.NaN\n",
    "            else:\n",
    "                text = text.get('alt')\n",
    "            \n",
    "            nrows = label[1]\n",
    "            if nrows is None:\n",
    "                nrows = 1\n",
    "            else:\n",
    "                nrows = int(nrows)\n",
    "            \n",
    "            label_df.loc[pos:pos+nrows, 'loc'+str(col+1)] = text\n",
    "            pos += nrows\n",
    "        except:\n",
    "            pos += 1"
   ]
  },
  {
   "cell_type": "code",
   "execution_count": 6,
   "metadata": {
    "collapsed": false
   },
   "outputs": [
    {
     "data": {
      "text/html": [
       "<div>\n",
       "<table border=\"1\" class=\"dataframe\">\n",
       "  <thead>\n",
       "    <tr style=\"text-align: right;\">\n",
       "      <th></th>\n",
       "      <th>loc1</th>\n",
       "      <th>loc2</th>\n",
       "      <th>loc3</th>\n",
       "    </tr>\n",
       "  </thead>\n",
       "  <tbody>\n",
       "    <tr>\n",
       "      <th>0</th>\n",
       "      <td>Europe</td>\n",
       "      <td>NaN</td>\n",
       "      <td>Austria Riesling, Gruner Veltliner</td>\n",
       "    </tr>\n",
       "    <tr>\n",
       "      <th>1</th>\n",
       "      <td>Europe</td>\n",
       "      <td>France</td>\n",
       "      <td>Alsace</td>\n",
       "    </tr>\n",
       "    <tr>\n",
       "      <th>2</th>\n",
       "      <td>Europe</td>\n",
       "      <td>France</td>\n",
       "      <td>Bordeaux: St. Julien/Pauillac St. Estephe</td>\n",
       "    </tr>\n",
       "    <tr>\n",
       "      <th>3</th>\n",
       "      <td>Europe</td>\n",
       "      <td>France</td>\n",
       "      <td>Margaux</td>\n",
       "    </tr>\n",
       "    <tr>\n",
       "      <th>4</th>\n",
       "      <td>Europe</td>\n",
       "      <td>France</td>\n",
       "      <td>Graves</td>\n",
       "    </tr>\n",
       "  </tbody>\n",
       "</table>\n",
       "</div>"
      ],
      "text/plain": [
       "     loc1    loc2                                       loc3\n",
       "0  Europe     NaN         Austria Riesling, Gruner Veltliner\n",
       "1  Europe  France                                     Alsace\n",
       "2  Europe  France  Bordeaux: St. Julien/Pauillac St. Estephe\n",
       "3  Europe  France                                    Margaux\n",
       "4  Europe  France                                     Graves"
      ]
     },
     "execution_count": 6,
     "metadata": {},
     "output_type": "execute_result"
    }
   ],
   "source": [
    "label_df.head()"
   ]
  },
  {
   "cell_type": "code",
   "execution_count": 7,
   "metadata": {
    "collapsed": false
   },
   "outputs": [
    {
     "data": {
      "text/plain": [
       "(51, 3)"
      ]
     },
     "execution_count": 7,
     "metadata": {},
     "output_type": "execute_result"
    }
   ],
   "source": [
    "label_df.shape"
   ]
  },
  {
   "cell_type": "markdown",
   "metadata": {},
   "source": [
    "Get the year labels for the chart."
   ]
  },
  {
   "cell_type": "code",
   "execution_count": 8,
   "metadata": {
    "collapsed": false
   },
   "outputs": [],
   "source": [
    "year_list = [x.text.strip() for x in charts[1].find('tr').find_all('th')]"
   ]
  },
  {
   "cell_type": "code",
   "execution_count": 9,
   "metadata": {
    "collapsed": false
   },
   "outputs": [
    {
     "data": {
      "text/plain": [
       "41"
      ]
     },
     "execution_count": 9,
     "metadata": {},
     "output_type": "execute_result"
    }
   ],
   "source": [
    "len(year_list)"
   ]
  },
  {
   "cell_type": "markdown",
   "metadata": {},
   "source": [
    "Get the rankings for the chart and clean up the values."
   ]
  },
  {
   "cell_type": "code",
   "execution_count": 10,
   "metadata": {
    "collapsed": false
   },
   "outputs": [],
   "source": [
    "ranking_df = pd.DataFrame([[y.text.strip() \n",
    "               for y in x.find_all('td')] \n",
    "              for x in charts[1].find_all('tr')[1:-1]]).loc[:,1:]\n",
    "\n",
    "ranking_df.columns = year_list\n",
    "\n",
    "ranking_df = pd.concat([label_df, ranking_df], axis=1).set_index(['loc1', 'loc2', 'loc3'])\n",
    "\n",
    "ranking_df = ranking_df.replace('NT',np.NaN).replace('NV',np.NaN)\n",
    "\n",
    "for col in ranking_df.columns:\n",
    "    ranking_df[col] = ranking_df[col].str.replace(r\"\"\"[A-Z]+\"\"\", '')\n",
    "    ranking_df[col] = ranking_df[col].apply(lambda x: float(x))"
   ]
  },
  {
   "cell_type": "code",
   "execution_count": 11,
   "metadata": {
    "collapsed": false
   },
   "outputs": [
    {
     "data": {
      "text/html": [
       "<div>\n",
       "<table border=\"1\" class=\"dataframe\">\n",
       "  <thead>\n",
       "    <tr style=\"text-align: right;\">\n",
       "      <th></th>\n",
       "      <th></th>\n",
       "      <th></th>\n",
       "      <th>2014</th>\n",
       "      <th>2013</th>\n",
       "      <th>2012</th>\n",
       "      <th>2011</th>\n",
       "      <th>2010</th>\n",
       "      <th>2009</th>\n",
       "      <th>2008</th>\n",
       "      <th>2007</th>\n",
       "      <th>2006</th>\n",
       "      <th>2005</th>\n",
       "      <th>...</th>\n",
       "      <th>1983</th>\n",
       "      <th>1982</th>\n",
       "      <th>1981</th>\n",
       "      <th>1980</th>\n",
       "      <th>1979</th>\n",
       "      <th>1978</th>\n",
       "      <th>1976</th>\n",
       "      <th>1975</th>\n",
       "      <th>1971</th>\n",
       "      <th>1970</th>\n",
       "    </tr>\n",
       "    <tr>\n",
       "      <th>loc1</th>\n",
       "      <th>loc2</th>\n",
       "      <th>loc3</th>\n",
       "      <th></th>\n",
       "      <th></th>\n",
       "      <th></th>\n",
       "      <th></th>\n",
       "      <th></th>\n",
       "      <th></th>\n",
       "      <th></th>\n",
       "      <th></th>\n",
       "      <th></th>\n",
       "      <th></th>\n",
       "      <th></th>\n",
       "      <th></th>\n",
       "      <th></th>\n",
       "      <th></th>\n",
       "      <th></th>\n",
       "      <th></th>\n",
       "      <th></th>\n",
       "      <th></th>\n",
       "      <th></th>\n",
       "      <th></th>\n",
       "      <th></th>\n",
       "    </tr>\n",
       "  </thead>\n",
       "  <tbody>\n",
       "    <tr>\n",
       "      <th rowspan=\"5\" valign=\"top\">Europe</th>\n",
       "      <th>NaN</th>\n",
       "      <th>Austria Riesling, Gruner Veltliner</th>\n",
       "      <td>NaN</td>\n",
       "      <td>87.0</td>\n",
       "      <td>89.0</td>\n",
       "      <td>NaN</td>\n",
       "      <td>88.0</td>\n",
       "      <td>89.0</td>\n",
       "      <td>88.0</td>\n",
       "      <td>90.0</td>\n",
       "      <td>91.0</td>\n",
       "      <td>87.0</td>\n",
       "      <td>...</td>\n",
       "      <td>NaN</td>\n",
       "      <td>NaN</td>\n",
       "      <td>NaN</td>\n",
       "      <td>NaN</td>\n",
       "      <td>NaN</td>\n",
       "      <td>NaN</td>\n",
       "      <td>NaN</td>\n",
       "      <td>NaN</td>\n",
       "      <td>NaN</td>\n",
       "      <td>NaN</td>\n",
       "    </tr>\n",
       "    <tr>\n",
       "      <th rowspan=\"4\" valign=\"top\">France</th>\n",
       "      <th>Alsace</th>\n",
       "      <td>NaN</td>\n",
       "      <td>84.0</td>\n",
       "      <td>87.0</td>\n",
       "      <td>85.0</td>\n",
       "      <td>79.0</td>\n",
       "      <td>82.0</td>\n",
       "      <td>90.0</td>\n",
       "      <td>90.0</td>\n",
       "      <td>79.0</td>\n",
       "      <td>87.0</td>\n",
       "      <td>...</td>\n",
       "      <td>93.0</td>\n",
       "      <td>82.0</td>\n",
       "      <td>86.0</td>\n",
       "      <td>80.0</td>\n",
       "      <td>84.0</td>\n",
       "      <td>80.0</td>\n",
       "      <td>90.0</td>\n",
       "      <td>82.0</td>\n",
       "      <td>90.0</td>\n",
       "      <td>80.0</td>\n",
       "    </tr>\n",
       "    <tr>\n",
       "      <th>Bordeaux: St. Julien/Pauillac St. Estephe</th>\n",
       "      <td>NaN</td>\n",
       "      <td>78.0</td>\n",
       "      <td>87.0</td>\n",
       "      <td>88.0</td>\n",
       "      <td>98.0</td>\n",
       "      <td>99.0</td>\n",
       "      <td>91.0</td>\n",
       "      <td>86.0</td>\n",
       "      <td>87.0</td>\n",
       "      <td>95.0</td>\n",
       "      <td>...</td>\n",
       "      <td>86.0</td>\n",
       "      <td>98.0</td>\n",
       "      <td>85.0</td>\n",
       "      <td>78.0</td>\n",
       "      <td>85.0</td>\n",
       "      <td>87.0</td>\n",
       "      <td>84.0</td>\n",
       "      <td>89.0</td>\n",
       "      <td>82.0</td>\n",
       "      <td>87.0</td>\n",
       "    </tr>\n",
       "    <tr>\n",
       "      <th>Margaux</th>\n",
       "      <td>NaN</td>\n",
       "      <td>80.0</td>\n",
       "      <td>88.0</td>\n",
       "      <td>87.0</td>\n",
       "      <td>95.0</td>\n",
       "      <td>97.0</td>\n",
       "      <td>90.0</td>\n",
       "      <td>86.0</td>\n",
       "      <td>88.0</td>\n",
       "      <td>98.0</td>\n",
       "      <td>...</td>\n",
       "      <td>95.0</td>\n",
       "      <td>86.0</td>\n",
       "      <td>82.0</td>\n",
       "      <td>79.0</td>\n",
       "      <td>87.0</td>\n",
       "      <td>87.0</td>\n",
       "      <td>77.0</td>\n",
       "      <td>78.0</td>\n",
       "      <td>83.0</td>\n",
       "      <td>85.0</td>\n",
       "    </tr>\n",
       "    <tr>\n",
       "      <th>Graves</th>\n",
       "      <td>NaN</td>\n",
       "      <td>81.0</td>\n",
       "      <td>89.0</td>\n",
       "      <td>86.0</td>\n",
       "      <td>99.0</td>\n",
       "      <td>98.0</td>\n",
       "      <td>91.0</td>\n",
       "      <td>87.0</td>\n",
       "      <td>87.0</td>\n",
       "      <td>96.0</td>\n",
       "      <td>...</td>\n",
       "      <td>89.0</td>\n",
       "      <td>88.0</td>\n",
       "      <td>84.0</td>\n",
       "      <td>78.0</td>\n",
       "      <td>88.0</td>\n",
       "      <td>88.0</td>\n",
       "      <td>71.0</td>\n",
       "      <td>89.0</td>\n",
       "      <td>86.0</td>\n",
       "      <td>87.0</td>\n",
       "    </tr>\n",
       "  </tbody>\n",
       "</table>\n",
       "<p>5 rows × 41 columns</p>\n",
       "</div>"
      ],
      "text/plain": [
       "                                                         2014  2013  2012  \\\n",
       "loc1   loc2   loc3                                                          \n",
       "Europe NaN    Austria Riesling, Gruner Veltliner          NaN  87.0  89.0   \n",
       "       France Alsace                                      NaN  84.0  87.0   \n",
       "              Bordeaux: St. Julien/Pauillac St. Estephe   NaN  78.0  87.0   \n",
       "              Margaux                                     NaN  80.0  88.0   \n",
       "              Graves                                      NaN  81.0  89.0   \n",
       "\n",
       "                                                         2011  2010  2009  \\\n",
       "loc1   loc2   loc3                                                          \n",
       "Europe NaN    Austria Riesling, Gruner Veltliner          NaN  88.0  89.0   \n",
       "       France Alsace                                     85.0  79.0  82.0   \n",
       "              Bordeaux: St. Julien/Pauillac St. Estephe  88.0  98.0  99.0   \n",
       "              Margaux                                    87.0  95.0  97.0   \n",
       "              Graves                                     86.0  99.0  98.0   \n",
       "\n",
       "                                                         2008  2007  2006  \\\n",
       "loc1   loc2   loc3                                                          \n",
       "Europe NaN    Austria Riesling, Gruner Veltliner         88.0  90.0  91.0   \n",
       "       France Alsace                                     90.0  90.0  79.0   \n",
       "              Bordeaux: St. Julien/Pauillac St. Estephe  91.0  86.0  87.0   \n",
       "              Margaux                                    90.0  86.0  88.0   \n",
       "              Graves                                     91.0  87.0  87.0   \n",
       "\n",
       "                                                         2005  ...   1983  \\\n",
       "loc1   loc2   loc3                                             ...          \n",
       "Europe NaN    Austria Riesling, Gruner Veltliner         87.0  ...    NaN   \n",
       "       France Alsace                                     87.0  ...   93.0   \n",
       "              Bordeaux: St. Julien/Pauillac St. Estephe  95.0  ...   86.0   \n",
       "              Margaux                                    98.0  ...   95.0   \n",
       "              Graves                                     96.0  ...   89.0   \n",
       "\n",
       "                                                         1982  1981  1980  \\\n",
       "loc1   loc2   loc3                                                          \n",
       "Europe NaN    Austria Riesling, Gruner Veltliner          NaN   NaN   NaN   \n",
       "       France Alsace                                     82.0  86.0  80.0   \n",
       "              Bordeaux: St. Julien/Pauillac St. Estephe  98.0  85.0  78.0   \n",
       "              Margaux                                    86.0  82.0  79.0   \n",
       "              Graves                                     88.0  84.0  78.0   \n",
       "\n",
       "                                                         1979  1978  1976  \\\n",
       "loc1   loc2   loc3                                                          \n",
       "Europe NaN    Austria Riesling, Gruner Veltliner          NaN   NaN   NaN   \n",
       "       France Alsace                                     84.0  80.0  90.0   \n",
       "              Bordeaux: St. Julien/Pauillac St. Estephe  85.0  87.0  84.0   \n",
       "              Margaux                                    87.0  87.0  77.0   \n",
       "              Graves                                     88.0  88.0  71.0   \n",
       "\n",
       "                                                         1975  1971  1970  \n",
       "loc1   loc2   loc3                                                         \n",
       "Europe NaN    Austria Riesling, Gruner Veltliner          NaN   NaN   NaN  \n",
       "       France Alsace                                     82.0  90.0  80.0  \n",
       "              Bordeaux: St. Julien/Pauillac St. Estephe  89.0  82.0  87.0  \n",
       "              Margaux                                    78.0  83.0  85.0  \n",
       "              Graves                                     89.0  86.0  87.0  \n",
       "\n",
       "[5 rows x 41 columns]"
      ]
     },
     "execution_count": 11,
     "metadata": {},
     "output_type": "execute_result"
    }
   ],
   "source": [
    "ranking_df.head(5)"
   ]
  },
  {
   "cell_type": "code",
   "execution_count": 208,
   "metadata": {
    "collapsed": false
   },
   "outputs": [],
   "source": [
    "ranking_df.to_pickle('../priv/pkl/05_vintage_years.pkl')"
   ]
  }
 ],
 "metadata": {
  "anaconda-cloud": {},
  "kernelspec": {
   "display_name": "Python [default]",
   "language": "python",
   "name": "python2"
  },
  "language_info": {
   "codemirror_mode": {
    "name": "ipython",
    "version": 2
   },
   "file_extension": ".py",
   "mimetype": "text/x-python",
   "name": "python",
   "nbconvert_exporter": "python",
   "pygments_lexer": "ipython2",
   "version": "2.7.12"
  }
 },
 "nbformat": 4,
 "nbformat_minor": 0
}
