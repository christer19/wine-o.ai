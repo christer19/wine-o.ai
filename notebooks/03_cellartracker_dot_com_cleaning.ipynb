{
 "cells": [
  {
   "cell_type": "markdown",
   "metadata": {},
   "source": [
    "# Parse CellarTracker.com reviews\n",
    "\n",
    "Parse the text file I have of amateur wine reviews from [CellarTracker.com](http://cellartracker.com). Note that this data file was downloaded from the web, and this is several years old. The website was scraped in a later notebook."
   ]
  },
  {
   "cell_type": "code",
   "execution_count": 1,
   "metadata": {
    "collapsed": true
   },
   "outputs": [],
   "source": [
    "import pandas as pd\n",
    "import numpy as np\n",
    "\n",
    "import requests\n",
    "import json\n",
    "from bs4 import BeautifulSoup\n",
    "\n",
    "import dill\n",
    "import re\n",
    "import time"
   ]
  },
  {
   "cell_type": "markdown",
   "metadata": {},
   "source": [
    "Import the data. Note that it isn't in a csv format so it must be parsed."
   ]
  },
  {
   "cell_type": "code",
   "execution_count": 2,
   "metadata": {
    "collapsed": false
   },
   "outputs": [
    {
     "name": "stdout",
     "output_type": "stream",
     "text": [
      "wine/name: 1981 Ch&#226;teau de Beaucastel Ch&#226;teauneuf-du-Pape\r\n",
      "wine/wineId: 18856\r\n",
      "wine/variant: Red Rhone Blend\r\n",
      "wine/year: 1981\r\n",
      "review/points: 96\r\n",
      "review/time: 1160179200\r\n",
      "review/userId: 1\r\n",
      "review/userName: Eric\r\n",
      "review/text: Olive, horse sweat, dirty saddle, and smoke. This actually got quite a bit more spicy and expressive with significant aeration. This was a little dry on the palate first but filled out considerably in time, lovely, loaded with tapenade, leather, dry and powerful, very black olive, meaty. This improved considerably the longer it was open. A terrific bottle of 1981, 96+ and improving. This may well be my favorite vintage of Beau except for perhaps the 1990.\r\n",
      "\r\n"
     ]
    }
   ],
   "source": [
    "! head -n 10 ../priv/csv/cellartracker.txt"
   ]
  },
  {
   "cell_type": "code",
   "execution_count": 70,
   "metadata": {
    "collapsed": false
   },
   "outputs": [],
   "source": [
    "with open('../priv/csv/cellartracker.txt','r') as fh:\n",
    "    data_str = fh.read()"
   ]
  },
  {
   "cell_type": "code",
   "execution_count": 71,
   "metadata": {
    "collapsed": true
   },
   "outputs": [],
   "source": [
    "data_list = re.split(r\"\"\"\\n\\n\"\"\", data_str)"
   ]
  },
  {
   "cell_type": "markdown",
   "metadata": {},
   "source": [
    "## Parse reviews\n",
    "Convert each entry to a Pandas Series and store it in a list."
   ]
  },
  {
   "cell_type": "code",
   "execution_count": 81,
   "metadata": {
    "collapsed": false
   },
   "outputs": [],
   "source": [
    "series_list = list()\n",
    "\n",
    "for dat in data_list:\n",
    "    \n",
    "    dat_list = [x.strip() for x in dat.split('\\n') \n",
    "                if (x.startswith('wine') or x.startswith('review'))]\n",
    "    \n",
    "    series_list.append(pd.Series(dict([re.search(r\"\"\"((?:wine|review)\\/.+?): (.+)\"\"\", \n",
    "                                       x.strip()).groups() for x in dat_list])).T)\n",
    "    "
   ]
  },
  {
   "cell_type": "code",
   "execution_count": 82,
   "metadata": {
    "collapsed": false
   },
   "outputs": [],
   "source": [
    "data_df = pd.concat(series_list, axis=1).T"
   ]
  },
  {
   "cell_type": "code",
   "execution_count": 86,
   "metadata": {
    "collapsed": true
   },
   "outputs": [],
   "source": [
    "data_df = data_df.rename_axis(lambda x: x.replace('/', '_'), axis=1)"
   ]
  },
  {
   "cell_type": "code",
   "execution_count": 98,
   "metadata": {
    "collapsed": true
   },
   "outputs": [],
   "source": [
    "data_df['wine_name'] = data_df.wine_name.apply(lambda x: x.replace('&#226;','a'))\n",
    "data_df['review_text'] = data_df.review_text.apply(lambda x: x.replace('&#226;','a'))\n",
    "# data_df['review_points'] = data_df.review_points.replace('N/A', np.NaN)\n",
    "data_df = data_df.replace('N/A',np.NaN)"
   ]
  },
  {
   "cell_type": "code",
   "execution_count": 99,
   "metadata": {
    "collapsed": false
   },
   "outputs": [
    {
     "data": {
      "text/html": [
       "<div>\n",
       "<table border=\"1\" class=\"dataframe\">\n",
       "  <thead>\n",
       "    <tr style=\"text-align: right;\">\n",
       "      <th></th>\n",
       "      <th>review_points</th>\n",
       "      <th>review_text</th>\n",
       "      <th>review_time</th>\n",
       "      <th>review_userId</th>\n",
       "      <th>review_userName</th>\n",
       "      <th>wine_name</th>\n",
       "      <th>wine_variant</th>\n",
       "      <th>wine_wineId</th>\n",
       "      <th>wine_year</th>\n",
       "    </tr>\n",
       "  </thead>\n",
       "  <tbody>\n",
       "    <tr>\n",
       "      <th>0</th>\n",
       "      <td>96</td>\n",
       "      <td>Olive, horse sweat, dirty saddle, and smoke. T...</td>\n",
       "      <td>1160179200</td>\n",
       "      <td>1</td>\n",
       "      <td>Eric</td>\n",
       "      <td>1981 Chateau de Beaucastel Chateauneuf-du-Pape</td>\n",
       "      <td>Red Rhone Blend</td>\n",
       "      <td>18856</td>\n",
       "      <td>1981</td>\n",
       "    </tr>\n",
       "    <tr>\n",
       "      <th>1</th>\n",
       "      <td>93</td>\n",
       "      <td>A remarkably floral nose with violet and chamb...</td>\n",
       "      <td>1063929600</td>\n",
       "      <td>1</td>\n",
       "      <td>Eric</td>\n",
       "      <td>1995 Chateau Pichon-Longueville Baron</td>\n",
       "      <td>Red Bordeaux Blend</td>\n",
       "      <td>3495</td>\n",
       "      <td>1995</td>\n",
       "    </tr>\n",
       "    <tr>\n",
       "      <th>2</th>\n",
       "      <td>92</td>\n",
       "      <td>Fantastic wine! Blackberry, smoke, olive, stem...</td>\n",
       "      <td>1195948800</td>\n",
       "      <td>1</td>\n",
       "      <td>Eric</td>\n",
       "      <td>2001 Thierry Allemand Cornas Reynard</td>\n",
       "      <td>Syrah</td>\n",
       "      <td>40451</td>\n",
       "      <td>2001</td>\n",
       "    </tr>\n",
       "    <tr>\n",
       "      <th>3</th>\n",
       "      <td>NaN</td>\n",
       "      <td>Perfect cork. Perfect fill. Somewhat alluring ...</td>\n",
       "      <td>1344124800</td>\n",
       "      <td>1</td>\n",
       "      <td>Eric</td>\n",
       "      <td>2001 Chateau Pavie Decesse</td>\n",
       "      <td>Red Bordeaux Blend</td>\n",
       "      <td>26767</td>\n",
       "      <td>2001</td>\n",
       "    </tr>\n",
       "    <tr>\n",
       "      <th>4</th>\n",
       "      <td>NaN</td>\n",
       "      <td>OMFG, this wine just does not quit. I need to ...</td>\n",
       "      <td>1123718400</td>\n",
       "      <td>1</td>\n",
       "      <td>Eric</td>\n",
       "      <td>2003 Clos des Papes Chateauneuf-du-Pape</td>\n",
       "      <td>Red Rhone Blend</td>\n",
       "      <td>31665</td>\n",
       "      <td>2003</td>\n",
       "    </tr>\n",
       "  </tbody>\n",
       "</table>\n",
       "</div>"
      ],
      "text/plain": [
       "  review_points                                        review_text  \\\n",
       "0            96  Olive, horse sweat, dirty saddle, and smoke. T...   \n",
       "1            93  A remarkably floral nose with violet and chamb...   \n",
       "2            92  Fantastic wine! Blackberry, smoke, olive, stem...   \n",
       "3           NaN  Perfect cork. Perfect fill. Somewhat alluring ...   \n",
       "4           NaN  OMFG, this wine just does not quit. I need to ...   \n",
       "\n",
       "  review_time review_userId review_userName  \\\n",
       "0  1160179200             1            Eric   \n",
       "1  1063929600             1            Eric   \n",
       "2  1195948800             1            Eric   \n",
       "3  1344124800             1            Eric   \n",
       "4  1123718400             1            Eric   \n",
       "\n",
       "                                        wine_name        wine_variant  \\\n",
       "0  1981 Chateau de Beaucastel Chateauneuf-du-Pape     Red Rhone Blend   \n",
       "1           1995 Chateau Pichon-Longueville Baron  Red Bordeaux Blend   \n",
       "2            2001 Thierry Allemand Cornas Reynard               Syrah   \n",
       "3                      2001 Chateau Pavie Decesse  Red Bordeaux Blend   \n",
       "4         2003 Clos des Papes Chateauneuf-du-Pape     Red Rhone Blend   \n",
       "\n",
       "  wine_wineId wine_year  \n",
       "0       18856      1981  \n",
       "1        3495      1995  \n",
       "2       40451      2001  \n",
       "3       26767      2001  \n",
       "4       31665      2003  "
      ]
     },
     "execution_count": 99,
     "metadata": {},
     "output_type": "execute_result"
    }
   ],
   "source": [
    "data_df.head()"
   ]
  },
  {
   "cell_type": "code",
   "execution_count": 100,
   "metadata": {
    "collapsed": false
   },
   "outputs": [
    {
     "data": {
      "text/plain": [
       "review_points      202271\n",
       "review_text             1\n",
       "review_time             0\n",
       "review_userId           0\n",
       "review_userName         0\n",
       "wine_name               0\n",
       "wine_variant            0\n",
       "wine_wineId             0\n",
       "wine_year           25926\n",
       "dtype: int64"
      ]
     },
     "execution_count": 100,
     "metadata": {},
     "output_type": "execute_result"
    }
   ],
   "source": [
    "data_df.isnull().sum()"
   ]
  },
  {
   "cell_type": "code",
   "execution_count": 102,
   "metadata": {
    "collapsed": true
   },
   "outputs": [],
   "source": [
    "data_df.to_pickle('../priv/pkl/03_cellartracker_dot_com_data.pkl')"
   ]
  }
 ],
 "metadata": {
  "anaconda-cloud": {},
  "kernelspec": {
   "display_name": "Python [default]",
   "language": "python",
   "name": "python2"
  },
  "language_info": {
   "codemirror_mode": {
    "name": "ipython",
    "version": 2
   },
   "file_extension": ".py",
   "mimetype": "text/x-python",
   "name": "python",
   "nbconvert_exporter": "python",
   "pygments_lexer": "ipython2",
   "version": "2.7.12"
  }
 },
 "nbformat": 4,
 "nbformat_minor": 0
}
