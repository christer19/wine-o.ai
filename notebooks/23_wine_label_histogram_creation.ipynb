{
 "cells": [
  {
   "cell_type": "code",
   "execution_count": 1,
   "metadata": {
    "collapsed": true
   },
   "outputs": [],
   "source": [
    "import pandas as pd\n",
    "import numpy as np\n",
    "import os\n",
    "import h5py\n",
    "import warnings\n",
    "\n",
    "from sklearn.metrics.pairwise import euclidean_distances\n",
    "#from scipy.sparse import csr_matrix, vstack\n",
    "# from sklearn.feature_extraction.text import TfidfTransformer"
   ]
  },
  {
   "cell_type": "markdown",
   "metadata": {},
   "source": [
    "# Convert clusters to bag of words\n",
    "\n",
    "Also calculate the inverse document frequency (IDF) matrix."
   ]
  },
  {
   "cell_type": "code",
   "execution_count": 2,
   "metadata": {
    "collapsed": false
   },
   "outputs": [
    {
     "data": {
      "text/plain": [
       "(4117, 5)"
      ]
     },
     "execution_count": 2,
     "metadata": {},
     "output_type": "execute_result"
    }
   ],
   "source": [
    "# The data set of the higher resolution images\n",
    "large_images = pd.read_pickle('../pkl/20_wine_label_analysis_large_labels.pkl')\n",
    "large_images.shape"
   ]
  },
  {
   "cell_type": "code",
   "execution_count": 3,
   "metadata": {
    "collapsed": false,
    "scrolled": false
   },
   "outputs": [
    {
     "name": "stdout",
     "output_type": "stream",
     "text": [
      "1500\n",
      "1536\n",
      "2000\n",
      "2500\n",
      "3000\n",
      "5000\n"
     ]
    }
   ],
   "source": [
    "is_trial = True\n",
    "\n",
    "warnings.filterwarnings('ignore')\n",
    "\n",
    "kmeans_file = '../data/kmeans.h5'\n",
    "km = h5py.File(kmeans_file, 'r')\n",
    "\n",
    "features_file = '../data/features.h5'\n",
    "ft = pd.HDFStore(features_file, 'r')\n",
    "\n",
    "hist_file = '../data/hist.h5'\n",
    "hs = pd.HDFStore(hist_file, 'w')\n",
    "\n",
    "if is_trial:\n",
    "    mask = ft['basename'].isin(large_images.basename)\n",
    "    max_index = ft['index'].loc[mask,'end'].max()\n",
    "    nimages = mask.sum()\n",
    "else:\n",
    "    max_index = ft['index']['end'].max()\n",
    "    nimages = ft['index'].shape[0]\n",
    "    \n",
    "    \n",
    "# for ncluster in ['1500']:\n",
    "for ncluster in km.keys():\n",
    "    print(ncluster)\n",
    "    \n",
    "    km_matrix = km[ncluster].value\n",
    "\n",
    "    hist_list = list()\n",
    "    \n",
    "    for im in range(nimages):\n",
    "\n",
    "        indexes = ft['index'].iloc[im]\n",
    "        image_path = ft['image_path'].iloc[im]\n",
    "        \n",
    "        # This is a much faster and lower memory way of accessing a subset\n",
    "        # of a dataframe\n",
    "        features = ft.select('features', start=indexes.beg, stop=indexes.end).values\n",
    "        \n",
    "        # Pairwise euclidean distances\n",
    "        ec = euclidean_distances(features, km_matrix)\n",
    "        \n",
    "        # Closest cluster id and count\n",
    "        closest_clust_id = np.argmin(ec, axis=1)\n",
    "        cluster_id, word_count = np.unique(closest_clust_id, return_counts=True)\n",
    "        \n",
    "        # Dense matrix of word counts\n",
    "        bag_of_nums = np.zeros(int(ncluster), dtype=np.int)\n",
    "        bag_of_nums[cluster_id] = word_count            \n",
    "        \n",
    "        # Store the histogram in the proper row\n",
    "        hist_list.append(pd.Series(bag_of_nums, name=image_path))\n",
    "        \n",
    "    hist_df = pd.concat(hist_list, axis=1).T\n",
    "    hist_df = hist_df.reset_index().rename(columns={'index':'image_path'})\n",
    "    hs.append(ncluster, hist_df)\n",
    "        \n",
    "        \n",
    "km.close()\n",
    "ft.close()\n",
    "hs.close()"
   ]
  }
 ],
 "metadata": {
  "anaconda-cloud": {},
  "kernelspec": {
   "display_name": "Python [conda env:scienv2]",
   "language": "python",
   "name": "conda-env-scienv2-py"
  },
  "language_info": {
   "codemirror_mode": {
    "name": "ipython",
    "version": 2
   },
   "file_extension": ".py",
   "mimetype": "text/x-python",
   "name": "python",
   "nbconvert_exporter": "python",
   "pygments_lexer": "ipython2",
   "version": "2.7.12"
  }
 },
 "nbformat": 4,
 "nbformat_minor": 0
}
