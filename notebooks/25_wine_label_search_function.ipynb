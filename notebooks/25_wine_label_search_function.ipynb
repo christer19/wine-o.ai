{
 "cells": [
  {
   "cell_type": "code",
   "execution_count": 46,
   "metadata": {
    "collapsed": true
   },
   "outputs": [],
   "source": [
    "from glob import glob\n",
    "import re\n",
    "import pandas as pd\n",
    "import numpy as np\n",
    "\n",
    "import dill\n",
    "import h5py\n",
    "\n",
    "import cv2\n",
    "\n",
    "from sklearn.cluster import MiniBatchKMeans\n",
    "from sklearn.metrics.pairwise import euclidean_distances, cosine_distances\n",
    "\n",
    "%matplotlib inline\n",
    "import matplotlib.pyplot as plt"
   ]
  },
  {
   "cell_type": "markdown",
   "metadata": {},
   "source": [
    "# Image search\n",
    "\n",
    "Calculate SIFT keypoints for candidate image."
   ]
  },
  {
   "cell_type": "code",
   "execution_count": 2,
   "metadata": {
    "collapsed": true
   },
   "outputs": [],
   "source": [
    "def resize_image(image, height=None, width=None):\n",
    "    \n",
    "    (orig_height, orig_width) = image.shape[:2]\n",
    "    orig_height = float(orig_height)\n",
    "    orig_width = float(orig_width)\n",
    "\n",
    "    if height is not None:\n",
    "        ratio = height / orig_height\n",
    "        dim = (int(orig_width * ratio), height)\n",
    "\n",
    "    elif width is not None:\n",
    "        ratio = width / orig_width\n",
    "        dim = (width, int(orig_height * ratio))\n",
    "\n",
    "    resized = cv2.resize(image, dim, interpolation=cv2.INTER_AREA)\n",
    "    return resized"
   ]
  },
  {
   "cell_type": "code",
   "execution_count": 3,
   "metadata": {
    "collapsed": true
   },
   "outputs": [],
   "source": [
    "class RootSIFT(object):\n",
    "    # From http://www.pyimagesearch.com/2015/04/13/implementing-rootsift-in-python-and-opencv/\n",
    "    \n",
    "    def __init__(self):\n",
    "        # initialize the SIFT feature extractor\n",
    "        self.extractor = cv2.DescriptorExtractor_create(\"SIFT\")\n",
    "\n",
    "    def compute(self, image, kps, eps=1e-7):\n",
    "        # compute SIFT descriptors\n",
    "        (kps, descs) = self.extractor.compute(image, kps)\n",
    "\n",
    "        # if there are no keypoints or descriptors, return an empty tuple\n",
    "        if len(kps) == 0:\n",
    "            return ([], None)\n",
    "\n",
    "        # apply the Hellinger kernel by first L1-normalizing and taking the\n",
    "        # square-root\n",
    "        descs /= (descs.sum(axis=1, keepdims=True) + eps)\n",
    "        descs = np.sqrt(descs)\n",
    "        #descs /= (np.linalg.norm(descs, axis=1, ord=2) + eps)\n",
    "\n",
    "        # return a tuple of the keypoints and descriptors\n",
    "        return (kps, descs)"
   ]
  },
  {
   "cell_type": "code",
   "execution_count": 4,
   "metadata": {
    "collapsed": true
   },
   "outputs": [],
   "source": [
    "in_path = '../images/snooth_dot_com_6799.png'\n",
    "image = cv2.imread(in_path)\n",
    "image = resize_image(image, width=320)\n",
    "image = cv2.cvtColor(image, cv2.COLOR_BGR2GRAY)\n",
    "\n",
    "feat_detector = cv2.FeatureDetector_create('SURF')\n",
    "sift = RootSIFT()\n",
    "(kps, features) = sift.compute(image, kps)\n",
    "kp = np.array([x.pt for x in kps])"
   ]
  },
  {
   "cell_type": "code",
   "execution_count": 5,
   "metadata": {
    "collapsed": false
   },
   "outputs": [
    {
     "data": {
      "text/plain": [
       "(358, 128)"
      ]
     },
     "execution_count": 5,
     "metadata": {},
     "output_type": "execute_result"
    }
   ],
   "source": [
    "features.shape"
   ]
  },
  {
   "cell_type": "markdown",
   "metadata": {},
   "source": [
    "# Map keypoints to K-Means clusters\n",
    "\n",
    "# TODO ADJUST CALCULATION"
   ]
  },
  {
   "cell_type": "code",
   "execution_count": 8,
   "metadata": {
    "collapsed": false
   },
   "outputs": [
    {
     "name": "stdout",
     "output_type": "stream",
     "text": [
      "(358, 128) (1500, 128)\n"
     ]
    }
   ],
   "source": [
    "nclusters = 1500\n",
    "\n",
    "# Load the k-means clusters\n",
    "kmeans_path = '../data/kmeans.h5'\n",
    "km = h5py.File(kmeans_path, 'r')\n",
    "km_matrix = km[str(nclusters)]\n",
    "\n",
    "# Pairwise euclidean distances\n",
    "print features.shape, km_matrix.shape\n",
    "ec = euclidean_distances(features, km_matrix)\n",
    "km.close()\n",
    "\n",
    "# Closest cluster id and count\n",
    "closest_clust_id = np.argmin(ec, axis=1)\n",
    "cluster_id, word_count = np.unique(closest_clust_id, return_counts=True)\n",
    "\n",
    "# Dense matrix of word counts\n",
    "hist = np.zeros(nclusters, dtype=np.int)\n",
    "hist[cluster_id] = word_count"
   ]
  },
  {
   "cell_type": "markdown",
   "metadata": {},
   "source": [
    "# Get candidate images"
   ]
  },
  {
   "cell_type": "code",
   "execution_count": 11,
   "metadata": {
    "collapsed": true
   },
   "outputs": [],
   "source": [
    "max_images = 200"
   ]
  },
  {
   "cell_type": "code",
   "execution_count": 12,
   "metadata": {
    "collapsed": false
   },
   "outputs": [],
   "source": [
    "index_file = '../data/inverted_index.h5'\n",
    "ix = pd.HDFStore(index_file, 'r')\n",
    "inverted_index = ix[str(nclusters)]\n",
    "ix.close()"
   ]
  },
  {
   "cell_type": "code",
   "execution_count": 13,
   "metadata": {
    "collapsed": false
   },
   "outputs": [],
   "source": [
    "index_bins = np.nonzero(hist)[0]\n",
    "\n",
    "sorted_counts = (inverted_index\n",
    "                 .loc[index_bins]\n",
    "                 .groupby('file')\n",
    "                 .sum()\n",
    "                 .sort_values('count', ascending=False)\n",
    "                 .reset_index())"
   ]
  },
  {
   "cell_type": "code",
   "execution_count": 14,
   "metadata": {
    "collapsed": false
   },
   "outputs": [
    {
     "data": {
      "text/html": [
       "<div>\n",
       "<table border=\"1\" class=\"dataframe\">\n",
       "  <thead>\n",
       "    <tr style=\"text-align: right;\">\n",
       "      <th></th>\n",
       "      <th>file</th>\n",
       "      <th>count</th>\n",
       "    </tr>\n",
       "  </thead>\n",
       "  <tbody>\n",
       "    <tr>\n",
       "      <th>138</th>\n",
       "      <td>snooth_dot_com_6799.png</td>\n",
       "      <td>358</td>\n",
       "    </tr>\n",
       "  </tbody>\n",
       "</table>\n",
       "</div>"
      ],
      "text/plain": [
       "                        file  count\n",
       "138  snooth_dot_com_6799.png    358"
      ]
     },
     "execution_count": 14,
     "metadata": {},
     "output_type": "execute_result"
    }
   ],
   "source": [
    "mask = sorted_counts.file.str.contains('snooth_dot_com_6799.')\n",
    "sorted_counts.loc[mask]"
   ]
  },
  {
   "cell_type": "code",
   "execution_count": 68,
   "metadata": {
    "collapsed": false
   },
   "outputs": [],
   "source": [
    "max_occurrences = sorted_counts.iloc[max_images]['count']\n",
    "candidate_images = sorted_counts.query('count >= {}'.format(max_occurrences))['file'].values\n",
    "candidate_hist = data_hist.loc[candidate_images]"
   ]
  },
  {
   "cell_type": "code",
   "execution_count": 69,
   "metadata": {
    "collapsed": false,
    "scrolled": true
   },
   "outputs": [
    {
     "data": {
      "text/plain": [
       "204"
      ]
     },
     "execution_count": 69,
     "metadata": {},
     "output_type": "execute_result"
    }
   ],
   "source": [
    "len(candidate_images)"
   ]
  },
  {
   "cell_type": "markdown",
   "metadata": {},
   "source": [
    "# Rank images"
   ]
  },
  {
   "cell_type": "code",
   "execution_count": 70,
   "metadata": {
    "collapsed": true
   },
   "outputs": [],
   "source": [
    "hist_file = '../data/hist.h5'\n",
    "hs = pd.HDFStore(hist_file, 'r')\n",
    "data_hist = hs['1500'].set_index('image_path')\n",
    "hs.close()"
   ]
  },
  {
   "cell_type": "markdown",
   "metadata": {
    "collapsed": false
   },
   "source": [
    "## Without TF-IDF, and using chi2."
   ]
  },
  {
   "cell_type": "code",
   "execution_count": 71,
   "metadata": {
    "collapsed": false,
    "scrolled": true
   },
   "outputs": [],
   "source": [
    "chi_sq_val = ((candidate_hist - hist).pow(2) / (candidate_hist + hist + 1.0e-10)).sum(axis=1)*0.5"
   ]
  },
  {
   "cell_type": "code",
   "execution_count": 72,
   "metadata": {
    "collapsed": false
   },
   "outputs": [
    {
     "data": {
      "text/plain": [
       "image_path\n",
       "snooth_dot_com_6799.png        0.000000\n",
       "snooth_dot_com_48533.jpeg    194.621318\n",
       "snooth_dot_com_23253.jpeg    201.852366\n",
       "snooth_dot_com_10093.jpeg    206.491596\n",
       "snooth_dot_com_11818.jpeg    206.737771\n",
       "snooth_dot_com_11008.jpeg    207.005353\n",
       "snooth_dot_com_9974.png      221.666879\n",
       "snooth_dot_com_6773.png      225.352200\n",
       "snooth_dot_com_9951.jpeg     228.119250\n",
       "snooth_dot_com_42938.jpeg    238.891034\n",
       "snooth_dot_com_39104.jpeg    242.254825\n",
       "snooth_dot_com_25983.png     245.581937\n",
       "snooth_dot_com_48476.jpeg    253.876899\n",
       "snooth_dot_com_24889.png     254.129743\n",
       "snooth_dot_com_38515.jpeg    256.899488\n",
       "snooth_dot_com_38535.jpeg    256.899488\n",
       "snooth_dot_com_33700.png     259.406166\n",
       "snooth_dot_com_33680.png     259.406166\n",
       "snooth_dot_com_24304.png     260.604081\n",
       "snooth_dot_com_24802.jpeg    265.088038\n",
       "dtype: float64"
      ]
     },
     "execution_count": 72,
     "metadata": {},
     "output_type": "execute_result"
    }
   ],
   "source": [
    "chi_sq_val.sort_values()[:20]"
   ]
  },
  {
   "cell_type": "markdown",
   "metadata": {},
   "source": [
    "## With TF-IDF and cosine distances."
   ]
  },
  {
   "cell_type": "code",
   "execution_count": 73,
   "metadata": {
    "collapsed": false
   },
   "outputs": [
    {
     "data": {
      "text/plain": [
       "(1500,)"
      ]
     },
     "execution_count": 73,
     "metadata": {},
     "output_type": "execute_result"
    }
   ],
   "source": [
    "nimages = candidate_hist.shape[0]\n",
    "idf = np.log(nimages/(1.0 + candidate_hist.sum(axis=0).values))\n",
    "idf.shape"
   ]
  },
  {
   "cell_type": "code",
   "execution_count": 74,
   "metadata": {
    "collapsed": false
   },
   "outputs": [
    {
     "name": "stderr",
     "output_type": "stream",
     "text": [
      "/home/ubuntu/miniconda/envs/scienv2/lib/python2.7/site-packages/sklearn/utils/validation.py:386: DeprecationWarning: Passing 1d arrays as data is deprecated in 0.17 and willraise ValueError in 0.19. Reshape your data either using X.reshape(-1, 1) if your data has a single feature or X.reshape(1, -1) if it contains a single sample.\n",
      "  DeprecationWarning)\n"
     ]
    },
    {
     "data": {
      "text/plain": [
       "image_path\n",
       "snooth_dot_com_6799.png      7.771561e-16\n",
       "snooth_dot_com_11008.jpeg    4.268686e-01\n",
       "snooth_dot_com_1644.jpeg     4.466822e-01\n",
       "snooth_dot_com_26668.jpeg    4.781797e-01\n",
       "snooth_dot_com_2899.jpeg     4.782433e-01\n",
       "snooth_dot_com_7013.png      4.890880e-01\n",
       "snooth_dot_com_7100.png      4.918696e-01\n",
       "snooth_dot_com_44120.jpeg    4.933682e-01\n",
       "snooth_dot_com_6773.png      5.039745e-01\n",
       "snooth_dot_com_10093.jpeg    5.070767e-01\n",
       "snooth_dot_com_48533.jpeg    5.101588e-01\n",
       "snooth_dot_com_11818.jpeg    5.107447e-01\n",
       "snooth_dot_com_24159.jpeg    5.135485e-01\n",
       "snooth_dot_com_23924.png     5.142873e-01\n",
       "snooth_dot_com_23253.jpeg    5.160893e-01\n",
       "snooth_dot_com_4182.jpeg     5.210643e-01\n",
       "snooth_dot_com_37125.jpeg    5.300589e-01\n",
       "snooth_dot_com_24889.png     5.308205e-01\n",
       "snooth_dot_com_6638.png      5.321208e-01\n",
       "snooth_dot_com_33662.jpeg    5.326064e-01\n",
       "dtype: float64"
      ]
     },
     "execution_count": 74,
     "metadata": {},
     "output_type": "execute_result"
    }
   ],
   "source": [
    "idf_cos_val = pd.Series(np.squeeze(cosine_distances((candidate_hist * idf).values, (hist * idf).ravel())),\n",
    "                        index=chi_sq_val.index)\n",
    "idf_cos_val.sort_values()[:20]"
   ]
  },
  {
   "cell_type": "markdown",
   "metadata": {},
   "source": [
    "## With RANSAC"
   ]
  },
  {
   "cell_type": "code",
   "execution_count": 76,
   "metadata": {
    "collapsed": false
   },
   "outputs": [],
   "source": [
    "matcher = cv2.DescriptorMatcher_create(\"BruteForce\")"
   ]
  },
  {
   "cell_type": "code",
   "execution_count": 79,
   "metadata": {
    "collapsed": false
   },
   "outputs": [],
   "source": [
    "matcher.knnMatch?"
   ]
  }
 ],
 "metadata": {
  "anaconda-cloud": {},
  "kernelspec": {
   "display_name": "Python [conda env:scienv2]",
   "language": "python",
   "name": "conda-env-scienv2-py"
  },
  "language_info": {
   "codemirror_mode": {
    "name": "ipython",
    "version": 2
   },
   "file_extension": ".py",
   "mimetype": "text/x-python",
   "name": "python",
   "nbconvert_exporter": "python",
   "pygments_lexer": "ipython2",
   "version": "2.7.12"
  }
 },
 "nbformat": 4,
 "nbformat_minor": 0
}
